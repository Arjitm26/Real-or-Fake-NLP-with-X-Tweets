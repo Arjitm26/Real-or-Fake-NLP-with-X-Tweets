{
  "nbformat": 4,
  "nbformat_minor": 0,
  "metadata": {
    "kernelspec": {
      "display_name": "Python 3",
      "language": "python",
      "name": "python3"
    },
    "language_info": {
      "codemirror_mode": {
        "name": "ipython",
        "version": 3
      },
      "file_extension": ".py",
      "mimetype": "text/x-python",
      "name": "python",
      "nbconvert_exporter": "python",
      "pygments_lexer": "ipython3",
      "version": "3.7.6"
    },
    "colab": {
      "name": "Real-or-Not-NLP-with-Disaster-Tweets.ipynb",
      "provenance": [],
      "toc_visible": true,
      "include_colab_link": true
    }
  },
  "cells": [
    {
      "cell_type": "markdown",
      "metadata": {
        "id": "view-in-github",
        "colab_type": "text"
      },
      "source": [
        "<a href=\"https://colab.research.google.com/github/Arjitm26/Real-or-Fake-NLP-with-X-Tweets/blob/main/main.ipynb\" target=\"_parent\"><img src=\"https://colab.research.google.com/assets/colab-badge.svg\" alt=\"Open In Colab\"/></a>"
      ]
    },
    {
      "cell_type": "markdown",
      "metadata": {
        "id": "QmlWsK6fE1Ic"
      },
      "source": [
        "##**Table of Contents**\n",
        "\n",
        "**Loading Data**<br>\n",
        " &emsp; Kaggle<br>\n",
        "**Exploratory Data Analysis**<br>\n",
        "  &emsp; Analyzing Labels<br>\n",
        "  &emsp; Analyzing Features<br>\n",
        "\n",
        "**Data Cleaning**<br>\n",
        "  &emsp; Remove URL<br>\n",
        "  &emsp; Handle Tags<br>\n",
        "  &emsp; Handle Emoji<br>\n",
        "  &emsp; Remove HTML Tags<br>\n",
        "  &emsp; Remove Stopwords and Stemming<br>\n",
        "  &emsp; Remove Useless Characters<br>\n",
        "  &emsp; WORLDCLOUD<br>\n",
        "\n",
        "**Final Pre-Processing Data**<br>\n",
        "  &emsp; Vectorization<br>\n",
        "  &emsp; Padding<br>\n",
        "\n",
        "**Machine Learning**<br>\n",
        "  &emsp; Logistic Regression<br>\n",
        "  &emsp; Navie Bayes<br>\n",
        "  &emsp; Support Vector Machine (SVM)<br>\n",
        "  &emsp; RBF kernel SVM<br>\n",
        "  &emsp; Linear Kernel SVM<br>\n",
        "  &emsp; Random Forest<br>\n",
        "\n",
        "**Deep Learning**<br>\n",
        "  &emsp; Single Layer Perceptron<br>\n",
        "  &emsp; Multi Layer Perceptron<br>\n",
        "\n",
        "**Results**<br>\n",
        "  &emsp; Accuracy : 84.29%<br>\n",
        "\n",
        "**Conclusion**<br>\n",
        "  &emsp; Classified tweets with MLP<br>\n",
        "  "
      ]
    },
    {
      "cell_type": "markdown",
      "metadata": {
        "id": "8mCy-TmOE1Ig"
      },
      "source": [
        "## Libraries"
      ]
    },
    {
      "cell_type": "code",
      "metadata": {
        "id": "uDUrgmTbdXsg",
        "colab": {
          "base_uri": "https://localhost:8080/"
        },
        "outputId": "8714c100-d295-481f-d10a-3f8c0cd49fa8"
      },
      "source": [
        "%tensorflow_version 1.x"
      ],
      "execution_count": null,
      "outputs": [
        {
          "output_type": "stream",
          "text": [
            "TensorFlow 1.x selected.\n"
          ],
          "name": "stdout"
        }
      ]
    },
    {
      "cell_type": "code",
      "metadata": {
        "colab": {
          "base_uri": "https://localhost:8080/"
        },
        "id": "XO4onvQdH2LH",
        "outputId": "18312f5b-5a92-4026-8f46-6b60c1bce84f"
      },
      "source": [
        "!pip install demoji"
      ],
      "execution_count": null,
      "outputs": [
        {
          "output_type": "stream",
          "text": [
            "Collecting demoji\n",
            "  Downloading https://files.pythonhosted.org/packages/88/6a/34379abe01c9c36fe9fddc4181dd935332e7d0159ec3fae76f712e49bcea/demoji-0.4.0-py2.py3-none-any.whl\n",
            "Requirement already satisfied: requests<3.0.0 in /usr/local/lib/python3.6/dist-packages (from demoji) (2.23.0)\n",
            "Collecting colorama\n",
            "  Downloading https://files.pythonhosted.org/packages/44/98/5b86278fbbf250d239ae0ecb724f8572af1c91f4a11edf4d36a206189440/colorama-0.4.4-py2.py3-none-any.whl\n",
            "Requirement already satisfied: idna<3,>=2.5 in /usr/local/lib/python3.6/dist-packages (from requests<3.0.0->demoji) (2.10)\n",
            "Requirement already satisfied: chardet<4,>=3.0.2 in /usr/local/lib/python3.6/dist-packages (from requests<3.0.0->demoji) (3.0.4)\n",
            "Requirement already satisfied: urllib3!=1.25.0,!=1.25.1,<1.26,>=1.21.1 in /usr/local/lib/python3.6/dist-packages (from requests<3.0.0->demoji) (1.24.3)\n",
            "Requirement already satisfied: certifi>=2017.4.17 in /usr/local/lib/python3.6/dist-packages (from requests<3.0.0->demoji) (2020.12.5)\n",
            "Installing collected packages: colorama, demoji\n",
            "Successfully installed colorama-0.4.4 demoji-0.4.0\n"
          ],
          "name": "stdout"
        }
      ]
    },
    {
      "cell_type": "code",
      "metadata": {
        "id": "mZXFlDMCE1Ih"
      },
      "source": [
        "import numpy as np\n",
        "import pandas as pd\n",
        "\n",
        "import os\n",
        "\n",
        "import string\n",
        "import nltk\n",
        "from nltk.corpus import stopwords\n",
        "from nltk.stem.snowball import SnowballStemmer\n",
        "import re\n",
        "import demoji\n",
        "from wordcloud import WordCloud\n",
        "\n",
        "import matplotlib.pyplot as plt\n",
        "\n",
        "from sklearn.model_selection import train_test_split\n",
        "from sklearn.feature_extraction.text import TfidfVectorizer\n",
        "from sklearn.linear_model import LinearRegression\n",
        "from sklearn.linear_model import LogisticRegression\n",
        "from sklearn.naive_bayes import GaussianNB, BernoulliNB, ComplementNB, MultinomialNB\n",
        "from sklearn import svm\n",
        "from sklearn.ensemble import RandomForestClassifier\n",
        "from sklearn.metrics import accuracy_score\n",
        "from sklearn.metrics import precision_recall_fscore_support\n",
        "\n",
        "from tensorflow.keras.models import Sequential\n",
        "from tensorflow.keras.layers import Dense, Activation, BatchNormalization, Dropout\n",
        "from tensorflow.python.keras.initializers import RandomNormal"
      ],
      "execution_count": null,
      "outputs": []
    },
    {
      "cell_type": "markdown",
      "metadata": {
        "id": "mye6dcyvE1Ik"
      },
      "source": [
        "## Loading Data"
      ]
    },
    {
      "cell_type": "code",
      "metadata": {
        "colab": {
          "base_uri": "https://localhost:8080/"
        },
        "id": "_qvMOrp0Ibja",
        "outputId": "24c52227-9e96-4cd2-d004-3986a3f289b9"
      },
      "source": [
        "from google.colab import drive\n",
        "drive.mount('/content/gdrive')"
      ],
      "execution_count": null,
      "outputs": [
        {
          "output_type": "stream",
          "text": [
            "Mounted at /content/gdrive\n"
          ],
          "name": "stdout"
        }
      ]
    },
    {
      "cell_type": "code",
      "metadata": {
        "colab": {
          "base_uri": "https://localhost:8080/",
          "height": 208
        },
        "id": "CCzQ5_WYE1Il",
        "outputId": "2deaa833-82ba-44da-ea25-cfdfa5a0b550"
      },
      "source": [
        "data = pd.read_csv(\"/content/gdrive/My Drive//Colab Notebooks/tweets.csv\")\n",
        "\n",
        "print(\"Total DataSet: \", len(data))\n",
        "print(\"Columns: \", list(data.columns))\n",
        "\n",
        "X = data[[\"id\", \"keyword\", \"location\", \"text\"]]\n",
        "y = data[[\"id\",\"target\"]]\n",
        "\n",
        "X_train, X_test, y_train, y_test = train_test_split(X, y, test_size=0.2, random_state=42)\n",
        "print(\"Training Data\", len(y_train))\n",
        "print(\"Testing Data\", len(y_test))\n",
        "\n",
        "data.head(3)"
      ],
      "execution_count": null,
      "outputs": [
        {
          "output_type": "stream",
          "text": [
            "Total DataSet:  11370\n",
            "Columns:  ['id', 'keyword', 'location', 'text', 'target']\n",
            "Training Data 9096\n",
            "Testing Data 2274\n"
          ],
          "name": "stdout"
        },
        {
          "output_type": "execute_result",
          "data": {
            "text/html": [
              "<div>\n",
              "<style scoped>\n",
              "    .dataframe tbody tr th:only-of-type {\n",
              "        vertical-align: middle;\n",
              "    }\n",
              "\n",
              "    .dataframe tbody tr th {\n",
              "        vertical-align: top;\n",
              "    }\n",
              "\n",
              "    .dataframe thead th {\n",
              "        text-align: right;\n",
              "    }\n",
              "</style>\n",
              "<table border=\"1\" class=\"dataframe\">\n",
              "  <thead>\n",
              "    <tr style=\"text-align: right;\">\n",
              "      <th></th>\n",
              "      <th>id</th>\n",
              "      <th>keyword</th>\n",
              "      <th>location</th>\n",
              "      <th>text</th>\n",
              "      <th>target</th>\n",
              "    </tr>\n",
              "  </thead>\n",
              "  <tbody>\n",
              "    <tr>\n",
              "      <th>0</th>\n",
              "      <td>0</td>\n",
              "      <td>ablaze</td>\n",
              "      <td>NaN</td>\n",
              "      <td>Communal violence in Bhainsa, Telangana. \"Ston...</td>\n",
              "      <td>1</td>\n",
              "    </tr>\n",
              "    <tr>\n",
              "      <th>1</th>\n",
              "      <td>1</td>\n",
              "      <td>ablaze</td>\n",
              "      <td>NaN</td>\n",
              "      <td>Telangana: Section 144 has been imposed in Bha...</td>\n",
              "      <td>1</td>\n",
              "    </tr>\n",
              "    <tr>\n",
              "      <th>2</th>\n",
              "      <td>2</td>\n",
              "      <td>ablaze</td>\n",
              "      <td>New York City</td>\n",
              "      <td>Arsonist sets cars ablaze at dealership https:...</td>\n",
              "      <td>1</td>\n",
              "    </tr>\n",
              "  </tbody>\n",
              "</table>\n",
              "</div>"
            ],
            "text/plain": [
              "   id keyword  ...                                               text target\n",
              "0   0  ablaze  ...  Communal violence in Bhainsa, Telangana. \"Ston...      1\n",
              "1   1  ablaze  ...  Telangana: Section 144 has been imposed in Bha...      1\n",
              "2   2  ablaze  ...  Arsonist sets cars ablaze at dealership https:...      1\n",
              "\n",
              "[3 rows x 5 columns]"
            ]
          },
          "metadata": {
            "tags": []
          },
          "execution_count": 5
        }
      ]
    },
    {
      "cell_type": "markdown",
      "metadata": {
        "id": "iXX-En2GE1Im"
      },
      "source": [
        "## Exploratory Data Analysis"
      ]
    },
    {
      "cell_type": "markdown",
      "metadata": {
        "id": "r4jovtx_E1In"
      },
      "source": [
        "### Analyzing Lables"
      ]
    },
    {
      "cell_type": "code",
      "metadata": {
        "id": "wAzcgPrBE1In"
      },
      "source": [
        "Real_len = data[data['target'] == 1].shape[0]\n",
        "Not_len = data[data['target'] == 0].shape[0]"
      ],
      "execution_count": null,
      "outputs": []
    },
    {
      "cell_type": "code",
      "metadata": {
        "colab": {
          "base_uri": "https://localhost:8080/",
          "height": 335
        },
        "id": "P6LF_-nQA2W0",
        "outputId": "afd0596f-f771-4f73-d48c-8e804d66ba75"
      },
      "source": [
        "\n",
        "plt.rcParams['figure.figsize'] = (7, 5)\n",
        "plt.bar(10,Real_len,3, label=\"Real\", color='blue')\n",
        "plt.bar(15,Not_len,3, label=\"Not\", color='red')\n",
        "plt.legend()\n",
        "plt.ylabel('Number of examples')\n",
        "plt.title('Propertion of examples')\n",
        "plt.show()"
      ],
      "execution_count": null,
      "outputs": [
        {
          "output_type": "display_data",
          "data": {
            "image/png": "[encoded data removed]",
            "text/plain": [
              "<Figure size 504x360 with 1 Axes>"
            ]
          },
          "metadata": {
            "tags": [],
            "needs_background": "light"
          }
        }
      ]
    },
    {
      "cell_type": "markdown",
      "metadata": {
        "id": "y-KzXmW8E1Io"
      },
      "source": [
        "### Analyzing Features"
      ]
    },
    {
      "cell_type": "markdown",
      "metadata": {
        "id": "kw2hHZf4E1Ip"
      },
      "source": [
        "#### Sentence length analysis"
      ]
    },
    {
      "cell_type": "code",
      "metadata": {
        "id": "LHDQnse-BqCz"
      },
      "source": [
        "def length(string):\n",
        "    return len(string)\n",
        "data['length'] = data['text'].apply(length)"
      ],
      "execution_count": null,
      "outputs": []
    },
    {
      "cell_type": "code",
      "metadata": {
        "colab": {
          "base_uri": "https://localhost:8080/",
          "height": 387
        },
        "id": "dy1-hrn3E1Iq",
        "outputId": "c378211e-7f67-4ee7-8bd0-0a1b6503fc89"
      },
      "source": [
        "plt.rcParams['figure.figsize'] = (18.0, 6.0)\n",
        "bins = 150\n",
        "plt.hist(data[data['target'] == 0]['length'], alpha = 0.6, bins=bins, label='Not')\n",
        "plt.hist(data[data['target'] == 1]['length'], alpha = 0.8, bins=bins, label='Real')\n",
        "plt.xlabel('length')\n",
        "plt.ylabel('numbers')\n",
        "plt.legend(loc='upper right')\n",
        "plt.xlim(0,150)\n",
        "plt.grid()\n",
        "plt.show()"
      ],
      "execution_count": null,
      "outputs": [
        {
          "output_type": "display_data",
          "data": {
            "image/png": "[encoded data removed]",
            "text/plain": [
              "<Figure size 1296x432 with 1 Axes>"
            ]
          },
          "metadata": {
            "tags": [],
            "needs_background": "light"
          }
        }
      ]
    },
    {
      "cell_type": "code",
      "metadata": {
        "colab": {
          "base_uri": "https://localhost:8080/",
          "height": 355
        },
        "id": "nQs1LLNGB8AN",
        "outputId": "d22dd12c-bff8-4433-e9c7-ca05e6ed7c95"
      },
      "source": [
        "fig,(ax1,ax2)=plt.subplots(1,2,figsize=(10,5))\n",
        "tweet_len=data[data['target']==1]['text'].str.len()\n",
        "ax1.hist(tweet_len,color='blue')\n",
        "ax1.set_title('disaster tweets')\n",
        "tweet_len=data[data['target']==0]['text'].str.len()\n",
        "ax2.hist(tweet_len,color='red')\n",
        "ax2.set_title('Not disaster tweets')\n",
        "fig.suptitle('Characters in tweets')\n",
        "plt.show()"
      ],
      "execution_count": null,
      "outputs": [
        {
          "output_type": "display_data",
          "data": {
            "image/png": "[encoded data removed]",
            "text/plain": [
              "<Figure size 720x360 with 2 Axes>"
            ]
          },
          "metadata": {
            "tags": [],
            "needs_background": "light"
          }
        }
      ]
    },
    {
      "cell_type": "markdown",
      "metadata": {
        "id": "N6-Y3dmbE1Is"
      },
      "source": [
        "## Data Cleaning"
      ]
    },
    {
      "cell_type": "markdown",
      "metadata": {
        "id": "fWgOst7BE1Is"
      },
      "source": [
        "Step 1. Remove Url<br>\n",
        "Step 2. Handle Tags<br>\n",
        "Step 3. Handle emoji's<br>\n",
        "Step 4. Remove HTML Tags<br>\n",
        "Step 5. Remove stopwords<br>\n",
        "Step 6. Removing Useless Characters"
      ]
    },
    {
      "cell_type": "markdown",
      "metadata": {
        "id": "sZDDQRYiE1It"
      },
      "source": [
        "### Step 1. Remove Url"
      ]
    },
    {
      "cell_type": "code",
      "metadata": {
        "id": "OmYW5LORE1It"
      },
      "source": [
        "#https://stackoverflow.com/questions/11331982/how-to-remove-any-url-within-a-string-in-python/11332580\n",
        "def Remove_Url(string):\n",
        "    return re.sub(r'(https|http)?:\\/\\/(\\w|\\.|\\/|\\?|\\=|\\&|\\%|\\-)*\\b', '', string)"
      ],
      "execution_count": null,
      "outputs": []
    },
    {
      "cell_type": "code",
      "metadata": {
        "colab": {
          "base_uri": "https://localhost:8080/"
        },
        "id": "tiqKziW7E1Iu",
        "outputId": "588d26a3-e766-4c98-f15f-cfee2f6b0c6a"
      },
      "source": [
        "print(\"Example of text with URL: \\n\", X_train['text'][3912], end = \"\\n\\n\")\n",
        "X_train['text'] = X_train['text'].apply(Remove_Url)\n",
        "print(\"Example of text without URL: \\n\", X_train['text'][3912])"
      ],
      "execution_count": null,
      "outputs": [
        {
          "output_type": "stream",
          "text": [
            "Example of text with URL: \n",
            " why the hell would want to join the Kenyan Cabinet? why would… https://t.co/l91GiZ6Wjr\n",
            "\n",
            "Example of text without URL: \n",
            " why the hell would want to join the Kenyan Cabinet? why would… \n"
          ],
          "name": "stdout"
        },
        {
          "output_type": "stream",
          "text": [
            "/usr/local/lib/python3.6/dist-packages/ipykernel_launcher.py:2: SettingWithCopyWarning: \n",
            "A value is trying to be set on a copy of a slice from a DataFrame.\n",
            "Try using .loc[row_indexer,col_indexer] = value instead\n",
            "\n",
            "See the caveats in the documentation: https://pandas.pydata.org/pandas-docs/stable/user_guide/indexing.html#returning-a-view-versus-a-copy\n",
            "  \n"
          ],
          "name": "stderr"
        }
      ]
    },
    {
      "cell_type": "markdown",
      "metadata": {
        "id": "N8EV4knxE1Iv"
      },
      "source": [
        "### Step 2. Handle Tags"
      ]
    },
    {
      "cell_type": "code",
      "metadata": {
        "id": "YjLiyMkfE1Iw"
      },
      "source": [
        "def Handle_Tags(string):\n",
        "    pattern = re.compile(r'[@|#][^\\s]+')\n",
        "    matches = pattern.findall(string)\n",
        "    tags = [match[1:] for match in matches]\n",
        "    string = re.sub(pattern, '', string)\n",
        "    return string + ' ' + ' '.join(tags) + ' '+ ' '.join(tags) + ' ' + ' '.join(tags)"
      ],
      "execution_count": null,
      "outputs": []
    },
    {
      "cell_type": "code",
      "metadata": {
        "colab": {
          "base_uri": "https://localhost:8080/"
        },
        "id": "g7v7lK2KE1Iw",
        "outputId": "c154d7dd-3cbe-4df3-a115-344f290e5786"
      },
      "source": [
        "print(\"Example of text without Handling Tags: \\n\", X_train['text'][3914],end = \"\\n\\n\")\n",
        "X_train['text'] = X_train['text'].apply(Handle_Tags)\n",
        "print(\"Example of text with Handling Tags: \\n\", X_train['text'][3914])"
      ],
      "execution_count": null,
      "outputs": [
        {
          "output_type": "stream",
          "text": [
            "Example of text without Handling Tags: \n",
            " #WednesdayWisdom Those who say that they have appeared to destroy all the locos He is worshiping them as full divine Mu…\n",
            "\n",
            "Example of text with Handling Tags: \n",
            "  Those who say that they have appeared to destroy all the locos He is worshiping them as full divine Mu… WednesdayWisdom WednesdayWisdom WednesdayWisdom\n"
          ],
          "name": "stdout"
        },
        {
          "output_type": "stream",
          "text": [
            "/usr/local/lib/python3.6/dist-packages/ipykernel_launcher.py:2: SettingWithCopyWarning: \n",
            "A value is trying to be set on a copy of a slice from a DataFrame.\n",
            "Try using .loc[row_indexer,col_indexer] = value instead\n",
            "\n",
            "See the caveats in the documentation: https://pandas.pydata.org/pandas-docs/stable/user_guide/indexing.html#returning-a-view-versus-a-copy\n",
            "  \n"
          ],
          "name": "stderr"
        }
      ]
    },
    {
      "cell_type": "markdown",
      "metadata": {
        "id": "WwX3zMvAE1Iz"
      },
      "source": [
        "### Step 3. Handle emoji's"
      ]
    },
    {
      "cell_type": "code",
      "metadata": {
        "colab": {
          "base_uri": "https://localhost:8080/"
        },
        "id": "8So-uz0hE1Iz",
        "outputId": "ed202f7e-ef5b-497e-da45-ed2ad01da77a"
      },
      "source": [
        "demoji.download_codes()"
      ],
      "execution_count": null,
      "outputs": [
        {
          "output_type": "stream",
          "text": [
            "Downloading emoji data ...\n",
            "... OK (Got response in 0.17 seconds)\n",
            "Writing emoji data to /root/.demoji/codes.json ...\n",
            "... OK\n"
          ],
          "name": "stdout"
        }
      ]
    },
    {
      "cell_type": "code",
      "metadata": {
        "id": "0vc6LuCTE1I0"
      },
      "source": [
        "def Handle_emoji(string):\n",
        "    return demoji.replace_with_desc(string)"
      ],
      "execution_count": null,
      "outputs": []
    },
    {
      "cell_type": "code",
      "metadata": {
        "colab": {
          "base_uri": "https://localhost:8080/"
        },
        "id": "s0W2ubsNE1I1",
        "outputId": "45c0a53a-7b67-461b-910b-e6ad2389ed5f"
      },
      "source": [
        "print(\"Example of text without Handled Emojis: \\n\", X_train['text'][17],end = \"\\n\\n\")\n",
        "X_train['text'] = X_train['text'].apply(Handle_emoji)\n",
        "print(\"Example of text with Handled Emoji: \\n\", X_train['text'][17])\n"
      ],
      "execution_count": null,
      "outputs": [
        {
          "output_type": "stream",
          "text": [
            "Example of text without Handled Emojis: \n",
            " Rengoku sets my heart ablaze😔❤️🔥 P.s. I missed this style of coloring I do so here it is c:   鬼滅の刃 鬼滅の刃 鬼滅の刃\n",
            "\n"
          ],
          "name": "stdout"
        },
        {
          "output_type": "stream",
          "text": [
            "/usr/local/lib/python3.6/dist-packages/ipykernel_launcher.py:2: SettingWithCopyWarning: \n",
            "A value is trying to be set on a copy of a slice from a DataFrame.\n",
            "Try using .loc[row_indexer,col_indexer] = value instead\n",
            "\n",
            "See the caveats in the documentation: https://pandas.pydata.org/pandas-docs/stable/user_guide/indexing.html#returning-a-view-versus-a-copy\n",
            "  \n"
          ],
          "name": "stderr"
        },
        {
          "output_type": "stream",
          "text": [
            "Example of text with Handled Emoji: \n",
            " Rengoku sets my heart ablaze:pensive face::red heart::fire: P.s. I missed this style of coloring I do so here it is c:   鬼滅の刃 鬼滅の刃 鬼滅の刃\n"
          ],
          "name": "stdout"
        }
      ]
    },
    {
      "cell_type": "markdown",
      "metadata": {
        "id": "hjCapL2ME1I2"
      },
      "source": [
        "### Step 4. Remove HTML Tags"
      ]
    },
    {
      "cell_type": "code",
      "metadata": {
        "id": "b-0jdMscE1I3"
      },
      "source": [
        "def Remove_html(string):\n",
        "    return re.sub(r'<.*?>|&([a-z0-9]+|#[0-9]{1,6}|#x[0-9a-f]{1,6});', '', str(string))"
      ],
      "execution_count": null,
      "outputs": []
    },
    {
      "cell_type": "code",
      "metadata": {
        "id": "gvDJfdhLE1I3",
        "colab": {
          "base_uri": "https://localhost:8080/"
        },
        "outputId": "f6f1b061-4384-405b-9fcb-0cd0595ff64d"
      },
      "source": [
        "X_train['text'] = X_train['text'].apply(Remove_html)"
      ],
      "execution_count": null,
      "outputs": [
        {
          "output_type": "stream",
          "text": [
            "/usr/local/lib/python3.6/dist-packages/ipykernel_launcher.py:1: SettingWithCopyWarning: \n",
            "A value is trying to be set on a copy of a slice from a DataFrame.\n",
            "Try using .loc[row_indexer,col_indexer] = value instead\n",
            "\n",
            "See the caveats in the documentation: https://pandas.pydata.org/pandas-docs/stable/user_guide/indexing.html#returning-a-view-versus-a-copy\n",
            "  \"\"\"Entry point for launching an IPython kernel.\n"
          ],
          "name": "stderr"
        }
      ]
    },
    {
      "cell_type": "markdown",
      "metadata": {
        "id": "p0y9F9VFE1I3"
      },
      "source": [
        "### Step 5. Remove Stopwords and Stemming"
      ]
    },
    {
      "cell_type": "code",
      "metadata": {
        "colab": {
          "base_uri": "https://localhost:8080/"
        },
        "id": "kx1PuCV4E1I4",
        "outputId": "8ab0b718-16c6-432e-85a6-5475bfdec24b"
      },
      "source": [
        "nltk.download('punkt')\n",
        "nltk.download('stopwords')\n",
        "stemmer  = SnowballStemmer('english')"
      ],
      "execution_count": null,
      "outputs": [
        {
          "output_type": "stream",
          "text": [
            "[nltk_data] Downloading package punkt to /root/nltk_data...\n",
            "[nltk_data]   Unzipping tokenizers/punkt.zip.\n",
            "[nltk_data] Downloading package stopwords to /root/nltk_data...\n",
            "[nltk_data]   Unzipping corpora/stopwords.zip.\n"
          ],
          "name": "stdout"
        }
      ]
    },
    {
      "cell_type": "code",
      "metadata": {
        "id": "cjpPSpWfE1I4"
      },
      "source": [
        "stopword = stopwords.words('english')\n",
        "def Remove_StopAndStem(string):\n",
        "    string_list = string.split()\n",
        "    return ' '.join([stemmer.stem(i) for i in string_list if i not in stopword])"
      ],
      "execution_count": null,
      "outputs": []
    },
    {
      "cell_type": "code",
      "metadata": {
        "colab": {
          "base_uri": "https://localhost:8080/"
        },
        "id": "HJdrrM19E1I5",
        "outputId": "792468ba-9b9d-468b-a821-e6492fc0688c"
      },
      "source": [
        "print(\"Example of text before Removing Stopwords: \\n\", X_train['text'][17],end = \"\\n\\n\")\n",
        "X_train['text'] = X_train['text'].apply(Remove_StopAndStem)\n",
        "print(\"Example of text after Removing Stopwords and Stemming: \\n\", X_train['text'][17])"
      ],
      "execution_count": null,
      "outputs": [
        {
          "output_type": "stream",
          "text": [
            "Example of text before Removing Stopwords: \n",
            " Rengoku sets my heart ablaze:pensive face::red heart::fire: P.s. I missed this style of coloring I do so here it is c:   鬼滅の刃 鬼滅の刃 鬼滅の刃\n",
            "\n"
          ],
          "name": "stdout"
        },
        {
          "output_type": "stream",
          "text": [
            "/usr/local/lib/python3.6/dist-packages/ipykernel_launcher.py:2: SettingWithCopyWarning: \n",
            "A value is trying to be set on a copy of a slice from a DataFrame.\n",
            "Try using .loc[row_indexer,col_indexer] = value instead\n",
            "\n",
            "See the caveats in the documentation: https://pandas.pydata.org/pandas-docs/stable/user_guide/indexing.html#returning-a-view-versus-a-copy\n",
            "  \n"
          ],
          "name": "stderr"
        },
        {
          "output_type": "stream",
          "text": [
            "Example of text after Removing Stopwords and Stemming: \n",
            " rengoku set heart ablaze:pens face::r heart::fire: p.s. i miss style color i c: 鬼滅の刃 鬼滅の刃 鬼滅の刃\n"
          ],
          "name": "stdout"
        }
      ]
    },
    {
      "cell_type": "markdown",
      "metadata": {
        "id": "cOgqqq8zE1I6"
      },
      "source": [
        "### Step 6. Removing Useless Characters"
      ]
    },
    {
      "cell_type": "code",
      "metadata": {
        "id": "-iAdeyowE1I6"
      },
      "source": [
        "def Remove_UC(string):\n",
        "    thestring = re.sub(r'[^a-zA-Z\\s]','', string)\n",
        "    # remove word of length less than 2\n",
        "    thestring = re.sub(r'\\b\\w{1,2}\\b', '', thestring)\n",
        "    #https://www.geeksforgeeks.org/python-remove-unwanted-spaces-from-string/\n",
        "    return re.sub(' +', ' ', thestring)"
      ],
      "execution_count": null,
      "outputs": []
    },
    {
      "cell_type": "code",
      "metadata": {
        "colab": {
          "base_uri": "https://localhost:8080/"
        },
        "id": "oNwVeGP8E1I7",
        "outputId": "b855300e-e669-4b14-f3dc-3fa7f0ac8c5f"
      },
      "source": [
        "print(\"Example of text before Removing Useless Character: \\n\", X_train['text'][17],end = \"\\n\\n\")\n",
        "X_train['text'] = X_train['text'].apply(Remove_UC)\n",
        "print(\"Example of text after Removing Useless Character: \\n\", X_train['text'][17])"
      ],
      "execution_count": null,
      "outputs": [
        {
          "output_type": "stream",
          "text": [
            "Example of text before Removing Useless Character: \n",
            " rengoku set heart ablaze:pens face::r heart::fire: p.s. i miss style color i c: 鬼滅の刃 鬼滅の刃 鬼滅の刃\n",
            "\n"
          ],
          "name": "stdout"
        },
        {
          "output_type": "stream",
          "text": [
            "/usr/local/lib/python3.6/dist-packages/ipykernel_launcher.py:2: SettingWithCopyWarning: \n",
            "A value is trying to be set on a copy of a slice from a DataFrame.\n",
            "Try using .loc[row_indexer,col_indexer] = value instead\n",
            "\n",
            "See the caveats in the documentation: https://pandas.pydata.org/pandas-docs/stable/user_guide/indexing.html#returning-a-view-versus-a-copy\n",
            "  \n"
          ],
          "name": "stderr"
        },
        {
          "output_type": "stream",
          "text": [
            "Example of text after Removing Useless Character: \n",
            " rengoku set heart ablazepens facer heartfire miss style color \n"
          ],
          "name": "stdout"
        }
      ]
    },
    {
      "cell_type": "code",
      "metadata": {
        "id": "3voW0wLlE1I8"
      },
      "source": [
        "def merging_details(data):\n",
        "        df_list = []\n",
        "\n",
        "        for row in data.itertuples():\n",
        "            df_dict = {}\n",
        "            keyword = re.sub(r'[^a-zA-Z\\s]','', str(row[2]))\n",
        "            location = re.sub(r'[^a-zA-Z\\s]','', str(row[3]))\n",
        "            keyword = re.sub(r'\\b\\w{1,2}\\b', '', keyword)\n",
        "            location = re.sub(r'\\b\\w{1,2}\\b', '', location)\n",
        "            text = str(row[4])\n",
        "\n",
        "            if keyword == 'nan':\n",
        "                if location == 'nan':\n",
        "                    prs_data = text\n",
        "                else:\n",
        "                    prs_data = location + ' ' + text\n",
        "            else:\n",
        "                if location == 'nan':\n",
        "                    prs_data = keyword + ' ' + text\n",
        "                else:\n",
        "                    prs_data = keyword + ' ' + location + ' ' + text\n",
        "\n",
        "            prs_data = re.sub(' +', ' ', prs_data)\n",
        "\n",
        "            df_dict['Cleaned_data'] = prs_data\n",
        "\n",
        "            df_list.append(df_dict)\n",
        "\n",
        "        return pd.DataFrame(df_list)"
      ],
      "execution_count": null,
      "outputs": []
    },
    {
      "cell_type": "code",
      "metadata": {
        "id": "jtbwyRzLE1I9"
      },
      "source": [
        "X_train = merging_details(X_train)"
      ],
      "execution_count": null,
      "outputs": []
    },
    {
      "cell_type": "code",
      "metadata": {
        "colab": {
          "base_uri": "https://localhost:8080/",
          "height": 406
        },
        "id": "mkIrhvUrE1I-",
        "outputId": "2ccfc562-9673-4865-9625-c74ab5af370a"
      },
      "source": [
        "X_train"
      ],
      "execution_count": null,
      "outputs": [
        {
          "output_type": "execute_result",
          "data": {
            "text/html": [
              "<div>\n",
              "<style scoped>\n",
              "    .dataframe tbody tr th:only-of-type {\n",
              "        vertical-align: middle;\n",
              "    }\n",
              "\n",
              "    .dataframe tbody tr th {\n",
              "        vertical-align: top;\n",
              "    }\n",
              "\n",
              "    .dataframe thead th {\n",
              "        text-align: right;\n",
              "    }\n",
              "</style>\n",
              "<table border=\"1\" class=\"dataframe\">\n",
              "  <thead>\n",
              "    <tr style=\"text-align: right;\">\n",
              "      <th></th>\n",
              "      <th>Cleaned_data</th>\n",
              "    </tr>\n",
              "  </thead>\n",
              "  <tbody>\n",
              "    <tr>\n",
              "      <th>0</th>\n",
              "      <td>destroy hell would want join kenyan cabinet would</td>\n",
              "    </tr>\n",
              "    <tr>\n",
              "      <th>1</th>\n",
              "      <td>flooding citizen unit wreak havoc democracy de...</td>\n",
              "    </tr>\n",
              "    <tr>\n",
              "      <th>2</th>\n",
              "      <td>wreckage through happi sorrow guess again live...</td>\n",
              "    </tr>\n",
              "    <tr>\n",
              "      <th>3</th>\n",
              "      <td>derailed Pittsburgh rememb cheer derail campai...</td>\n",
              "    </tr>\n",
              "    <tr>\n",
              "      <th>4</th>\n",
              "      <td>wrecked Oklahoma City first listen also whip d...</td>\n",
              "    </tr>\n",
              "    <tr>\n",
              "      <th>...</th>\n",
              "      <td>...</td>\n",
              "    </tr>\n",
              "    <tr>\n",
              "      <th>9091</th>\n",
              "      <td>wreck after caus wreck theyr like</td>\n",
              "    </tr>\n",
              "    <tr>\n",
              "      <th>9092</th>\n",
              "      <td>explosion Lagos Nigeria let get starboy subscr...</td>\n",
              "    </tr>\n",
              "    <tr>\n",
              "      <th>9093</th>\n",
              "      <td>fatalities been long day storm survey one team...</td>\n",
              "    </tr>\n",
              "    <tr>\n",
              "      <th>9094</th>\n",
              "      <td>blaze Kampala Uganda work next one lead govern...</td>\n",
              "    </tr>\n",
              "    <tr>\n",
              "      <th>9095</th>\n",
              "      <td>massmurder Edinburgh support coloni narrat bit...</td>\n",
              "    </tr>\n",
              "  </tbody>\n",
              "</table>\n",
              "<p>9096 rows × 1 columns</p>\n",
              "</div>"
            ],
            "text/plain": [
              "                                           Cleaned_data\n",
              "0     destroy hell would want join kenyan cabinet would\n",
              "1     flooding citizen unit wreak havoc democracy de...\n",
              "2     wreckage through happi sorrow guess again live...\n",
              "3     derailed Pittsburgh rememb cheer derail campai...\n",
              "4     wrecked Oklahoma City first listen also whip d...\n",
              "...                                                 ...\n",
              "9091                  wreck after caus wreck theyr like\n",
              "9092  explosion Lagos Nigeria let get starboy subscr...\n",
              "9093  fatalities been long day storm survey one team...\n",
              "9094  blaze Kampala Uganda work next one lead govern...\n",
              "9095  massmurder Edinburgh support coloni narrat bit...\n",
              "\n",
              "[9096 rows x 1 columns]"
            ]
          },
          "metadata": {
            "tags": []
          },
          "execution_count": 27
        }
      ]
    },
    {
      "cell_type": "markdown",
      "metadata": {
        "id": "btUAQHPtE1I_"
      },
      "source": [
        "###  WORDCLOUD"
      ]
    },
    {
      "cell_type": "code",
      "metadata": {
        "colab": {
          "base_uri": "https://localhost:8080/",
          "height": 406
        },
        "id": "c0opMxsLE1I_",
        "outputId": "cf90bc3b-bef8-41ab-a7af-e28cc125a9ac"
      },
      "source": [
        "%%time\n",
        "dict_of_words = {}\n",
        "for row in  X_train.itertuples():\n",
        "    for i in row[1].split():\n",
        "        try:\n",
        "            dict_of_words[i] += 1\n",
        "        except:\n",
        "            dict_of_words[i] = 1\n",
        "\n",
        "#Initializing  WordCloud\n",
        "wordcloud = WordCloud(background_color = 'black', width=1000, height=500).generate_from_frequencies(dict_of_words)\n",
        "fig = plt.figure(figsize=(10,5))\n",
        "plt.imshow(wordcloud)\n",
        "plt.tight_layout(pad=1)\n",
        "plt.show()"
      ],
      "execution_count": null,
      "outputs": [
        {
          "output_type": "display_data",
          "data": {
            "image/png": "[encoded data removed]",
            "text/plain": [
              "<Figure size 720x360 with 1 Axes>"
            ]
          },
          "metadata": {
            "tags": [],
            "needs_background": "light"
          }
        },
        {
          "output_type": "stream",
          "text": [
            "CPU times: user 1.72 s, sys: 149 ms, total: 1.87 s\n",
            "Wall time: 1.77 s\n"
          ],
          "name": "stdout"
        }
      ]
    },
    {
      "cell_type": "markdown",
      "metadata": {
        "id": "7Y6XobDTE1JB"
      },
      "source": [
        "## Final Pre-Processing Data"
      ]
    },
    {
      "cell_type": "code",
      "metadata": {
        "id": "ziFneG_wE1JC",
        "colab": {
          "base_uri": "https://localhost:8080/"
        },
        "collapsed": true,
        "outputId": "d1aa571a-38f5-40ad-995b-bfffad252a05"
      },
      "source": [
        "# Step 1. Remove Url\n",
        "X_test['text'] = X_test['text'].apply(Remove_Url)\n",
        "# Step 2. Handle Tags\n",
        "X_test['text'] = X_test['text'].apply(Handle_Tags)\n",
        "# Step 3. Handle emoji's\n",
        "X_test['text'] = X_test['text'].apply(Handle_emoji)\n",
        "# Step 4. Remove HTML Tags\n",
        "X_test['text'] = X_test['text'].apply(Remove_html)\n",
        "# Step 5. Remove Stopwords and Stemming\n",
        "X_test['text'] = X_test['text'].apply(Remove_StopAndStem)\n",
        "# Step 6. Removing Useless Characters\n",
        "X_test['text'] = X_test['text'].apply(Remove_UC)\n",
        "# Step7. Merging Other Details\n",
        "X_test = merging_details(X_test)"
      ],
      "execution_count": null,
      "outputs": [
        {
          "output_type": "stream",
          "text": [
            "/usr/local/lib/python3.6/dist-packages/ipykernel_launcher.py:2: SettingWithCopyWarning: \n",
            "A value is trying to be set on a copy of a slice from a DataFrame.\n",
            "Try using .loc[row_indexer,col_indexer] = value instead\n",
            "\n",
            "See the caveats in the documentation: https://pandas.pydata.org/pandas-docs/stable/user_guide/indexing.html#returning-a-view-versus-a-copy\n",
            "  \n",
            "/usr/local/lib/python3.6/dist-packages/ipykernel_launcher.py:4: SettingWithCopyWarning: \n",
            "A value is trying to be set on a copy of a slice from a DataFrame.\n",
            "Try using .loc[row_indexer,col_indexer] = value instead\n",
            "\n",
            "See the caveats in the documentation: https://pandas.pydata.org/pandas-docs/stable/user_guide/indexing.html#returning-a-view-versus-a-copy\n",
            "  after removing the cwd from sys.path.\n",
            "/usr/local/lib/python3.6/dist-packages/ipykernel_launcher.py:6: SettingWithCopyWarning: \n",
            "A value is trying to be set on a copy of a slice from a DataFrame.\n",
            "Try using .loc[row_indexer,col_indexer] = value instead\n",
            "\n",
            "See the caveats in the documentation: https://pandas.pydata.org/pandas-docs/stable/user_guide/indexing.html#returning-a-view-versus-a-copy\n",
            "  \n",
            "/usr/local/lib/python3.6/dist-packages/ipykernel_launcher.py:8: SettingWithCopyWarning: \n",
            "A value is trying to be set on a copy of a slice from a DataFrame.\n",
            "Try using .loc[row_indexer,col_indexer] = value instead\n",
            "\n",
            "See the caveats in the documentation: https://pandas.pydata.org/pandas-docs/stable/user_guide/indexing.html#returning-a-view-versus-a-copy\n",
            "  \n",
            "/usr/local/lib/python3.6/dist-packages/ipykernel_launcher.py:10: SettingWithCopyWarning: \n",
            "A value is trying to be set on a copy of a slice from a DataFrame.\n",
            "Try using .loc[row_indexer,col_indexer] = value instead\n",
            "\n",
            "See the caveats in the documentation: https://pandas.pydata.org/pandas-docs/stable/user_guide/indexing.html#returning-a-view-versus-a-copy\n",
            "  # Remove the CWD from sys.path while we load stuff.\n",
            "/usr/local/lib/python3.6/dist-packages/ipykernel_launcher.py:12: SettingWithCopyWarning: \n",
            "A value is trying to be set on a copy of a slice from a DataFrame.\n",
            "Try using .loc[row_indexer,col_indexer] = value instead\n",
            "\n",
            "See the caveats in the documentation: https://pandas.pydata.org/pandas-docs/stable/user_guide/indexing.html#returning-a-view-versus-a-copy\n",
            "  if sys.path[0] == '':\n"
          ],
          "name": "stderr"
        }
      ]
    },
    {
      "cell_type": "code",
      "metadata": {
        "colab": {
          "base_uri": "https://localhost:8080/",
          "height": 406
        },
        "id": "5ZvW6k3fE1JC",
        "outputId": "23f6de0b-3f55-4cbe-e2ce-68a76a8bd14f"
      },
      "source": [
        "X_test"
      ],
      "execution_count": null,
      "outputs": [
        {
          "output_type": "execute_result",
          "data": {
            "text/html": [
              "<div>\n",
              "<style scoped>\n",
              "    .dataframe tbody tr th:only-of-type {\n",
              "        vertical-align: middle;\n",
              "    }\n",
              "\n",
              "    .dataframe tbody tr th {\n",
              "        vertical-align: top;\n",
              "    }\n",
              "\n",
              "    .dataframe thead th {\n",
              "        text-align: right;\n",
              "    }\n",
              "</style>\n",
              "<table border=\"1\" class=\"dataframe\">\n",
              "  <thead>\n",
              "    <tr style=\"text-align: right;\">\n",
              "      <th></th>\n",
              "      <th>Cleaned_data</th>\n",
              "    </tr>\n",
              "  </thead>\n",
              "  <tbody>\n",
              "    <tr>\n",
              "      <th>0</th>\n",
              "      <td>demolished Observation drone how mani illeg bu...</td>\n",
              "    </tr>\n",
              "    <tr>\n",
              "      <th>1</th>\n",
              "      <td>fatality who fatal tho</td>\n",
              "    </tr>\n",
              "    <tr>\n",
              "      <th>2</th>\n",
              "      <td>sunk London chines state media confirm iranian...</td>\n",
              "    </tr>\n",
              "    <tr>\n",
              "      <th>3</th>\n",
              "      <td>windstorm London with luck miss windstorm eith...</td>\n",
              "    </tr>\n",
              "    <tr>\n",
              "      <th>4</th>\n",
              "      <td>buildingsonfire inferno black friday deaths bu...</td>\n",
              "    </tr>\n",
              "    <tr>\n",
              "      <th>...</th>\n",
              "      <td>...</td>\n",
              "    </tr>\n",
              "    <tr>\n",
              "      <th>2269</th>\n",
              "      <td>eyewitness United States plp leader call hypoc...</td>\n",
              "    </tr>\n",
              "    <tr>\n",
              "      <th>2270</th>\n",
              "      <td>thunderstorm Pluto cant sleep open window take...</td>\n",
              "    </tr>\n",
              "    <tr>\n",
              "      <th>2271</th>\n",
              "      <td>attacked Lagos Nigeria son teenag girl arrest ...</td>\n",
              "    </tr>\n",
              "    <tr>\n",
              "      <th>2272</th>\n",
              "      <td>loudbang Michigan USA brother got bathroom hea...</td>\n",
              "    </tr>\n",
              "    <tr>\n",
              "      <th>2273</th>\n",
              "      <td>thunderstorm Sioux Falls nwsseveretstorm sever...</td>\n",
              "    </tr>\n",
              "  </tbody>\n",
              "</table>\n",
              "<p>2274 rows × 1 columns</p>\n",
              "</div>"
            ],
            "text/plain": [
              "                                           Cleaned_data\n",
              "0     demolished Observation drone how mani illeg bu...\n",
              "1                               fatality who fatal tho \n",
              "2     sunk London chines state media confirm iranian...\n",
              "3     windstorm London with luck miss windstorm eith...\n",
              "4     buildingsonfire inferno black friday deaths bu...\n",
              "...                                                 ...\n",
              "2269  eyewitness United States plp leader call hypoc...\n",
              "2270  thunderstorm Pluto cant sleep open window take...\n",
              "2271  attacked Lagos Nigeria son teenag girl arrest ...\n",
              "2272  loudbang Michigan USA brother got bathroom hea...\n",
              "2273  thunderstorm Sioux Falls nwsseveretstorm sever...\n",
              "\n",
              "[2274 rows x 1 columns]"
            ]
          },
          "metadata": {
            "tags": []
          },
          "execution_count": 30
        }
      ]
    },
    {
      "cell_type": "code",
      "metadata": {
        "id": "0gihnvb3E1JD"
      },
      "source": [
        "y_train = y_train['target']\n",
        "y_test = y_test['target']"
      ],
      "execution_count": null,
      "outputs": []
    },
    {
      "cell_type": "code",
      "metadata": {
        "colab": {
          "base_uri": "https://localhost:8080/"
        },
        "id": "bqH747pcE1JD",
        "outputId": "baf113b6-d438-4dff-b92f-420514f999d9"
      },
      "source": [
        "%%time\n",
        "#smooth_idf=True by default so smoothing is done by defult.\n",
        "#norm is l2 by default.\n",
        "#subliner is used False by default.\n",
        "vectorizer = TfidfVectorizer(min_df = 0.0005,\n",
        "                             max_features = 100000,\n",
        "                             tokenizer = lambda x: x.split(),\n",
        "                             ngram_range = (1,4))\n",
        "\n",
        "\n",
        "X_train = vectorizer.fit_transform(X_train['Cleaned_data'])\n",
        "X_test = vectorizer.transform(X_test['Cleaned_data'])"
      ],
      "execution_count": null,
      "outputs": [
        {
          "output_type": "stream",
          "text": [
            "CPU times: user 1.44 s, sys: 48.4 ms, total: 1.49 s\n",
            "Wall time: 1.51 s\n"
          ],
          "name": "stdout"
        }
      ]
    },
    {
      "cell_type": "code",
      "metadata": {
        "colab": {
          "base_uri": "https://localhost:8080/"
        },
        "id": "9zuNrICAE1JD",
        "outputId": "48402d7b-5c91-473a-91d7-a04909316c79"
      },
      "source": [
        "#https://stackoverflow.com/questions/16505670/generating-a-dense-matrix-from-a-sparse-matrix-in-numpy-python\n",
        "print(\"Training Points: \", len(X_train.toarray()),\"| Training Features:\" , len(X_train.toarray()[0]))\n",
        "print(\"Testing Points: \", len(X_test.toarray()),\"| Testing Features:\" , len(X_test.toarray()[0]))\n",
        "print()\n",
        "print(\"Training Points: \", len(y_train))\n",
        "print(\"Testing Points: \", len(y_test))"
      ],
      "execution_count": null,
      "outputs": [
        {
          "output_type": "stream",
          "text": [
            "Training Points:  9096 | Training Features: 4678\n",
            "Testing Points:  2274 | Testing Features: 4678\n",
            "\n",
            "Training Points:  9096\n",
            "Testing Points:  2274\n"
          ],
          "name": "stdout"
        }
      ]
    },
    {
      "cell_type": "markdown",
      "metadata": {
        "id": "TjdxY_IbE1JD"
      },
      "source": [
        "## Machine Learning"
      ]
    },
    {
      "cell_type": "markdown",
      "metadata": {
        "id": "OiHkX47-E1JE"
      },
      "source": [
        "### Logistic Regression"
      ]
    },
    {
      "cell_type": "code",
      "metadata": {
        "colab": {
          "base_uri": "https://localhost:8080/"
        },
        "id": "35lNCisDE1JE",
        "outputId": "0b9eebe4-8721-48ad-f149-5d6aa05057ea"
      },
      "source": [
        "%%time\n",
        "\n",
        "Model = LogisticRegression(C=1,penalty='l2')\n",
        "\n",
        "Model.fit(X_train, y_train)\n",
        "\n",
        "y_pred = Model.predict(X_test)\n",
        "print(\"Acuracy\", accuracy_score(y_test, y_pred))\n",
        "print(\"Macro precision_recall_fscore_support\")\n",
        "print(precision_recall_fscore_support(y_test, y_pred, average='macro'))\n",
        "print(\"Micro precision_recall_fscore_support\")\n",
        "print(precision_recall_fscore_support(y_test, y_pred, average='micro'))\n",
        "print(\"Weighted precision_recall_fscore_support\")\n",
        "print(precision_recall_fscore_support(y_test, y_pred, average='weighted'))"
      ],
      "execution_count": null,
      "outputs": [
        {
          "output_type": "stream",
          "text": [
            "Acuracy 0.882145998240985\n",
            "Macro precision_recall_fscore_support\n",
            "(0.8699936326010824, 0.6875221867234647, 0.7336249580396106, None)\n",
            "Micro precision_recall_fscore_support\n",
            "(0.882145998240985, 0.882145998240985, 0.8821459982409852, None)\n",
            "Weighted precision_recall_fscore_support\n",
            "(0.8794031445542358, 0.882145998240985, 0.8632528623849799, None)\n",
            "CPU times: user 169 ms, sys: 3.73 ms, total: 172 ms\n",
            "Wall time: 183 ms\n"
          ],
          "name": "stdout"
        }
      ]
    },
    {
      "cell_type": "markdown",
      "metadata": {
        "id": "iIAs2d4tE1JE"
      },
      "source": [
        "### Naive Bayes"
      ]
    },
    {
      "cell_type": "markdown",
      "metadata": {
        "id": "kA7bpbRpE1JE"
      },
      "source": [
        "#### Gaussian Naive Bayes"
      ]
    },
    {
      "cell_type": "code",
      "metadata": {
        "colab": {
          "base_uri": "https://localhost:8080/"
        },
        "id": "aLvVP4SFE1JF",
        "outputId": "a76fc741-d7e9-4812-b703-f8e75d49cd9b"
      },
      "source": [
        "%%time\n",
        "Model = GaussianNB()\n",
        "Model.fit(X_train.toarray(), y_train)\n",
        "y_pred = Model.predict(X_test.toarray())\n",
        "\n",
        "print(\"Acuracy\", accuracy_score(y_test, y_pred))\n",
        "print(\"Macro precision_recall_fscore_support\")\n",
        "print(precision_recall_fscore_support(y_test, y_pred, average='macro'))\n",
        "print(\"Micro precision_recall_fscore_support\")\n",
        "print(precision_recall_fscore_support(y_test, y_pred, average='micro'))\n",
        "print(\"Weighted precision_recall_fscore_support\")\n",
        "print(precision_recall_fscore_support(y_test, y_pred, average='weighted'))"
      ],
      "execution_count": null,
      "outputs": [
        {
          "output_type": "stream",
          "text": [
            "Acuracy 0.6543535620052771\n",
            "Macro precision_recall_fscore_support\n",
            "(0.6183811954769804, 0.7030528931487399, 0.5947656286133786, None)\n",
            "Micro precision_recall_fscore_support\n",
            "(0.6543535620052771, 0.6543535620052771, 0.6543535620052771, None)\n",
            "Weighted precision_recall_fscore_support\n",
            "(0.8218584748469638, 0.6543535620052771, 0.696037781465206, None)\n",
            "CPU times: user 731 ms, sys: 174 ms, total: 904 ms\n",
            "Wall time: 909 ms\n"
          ],
          "name": "stdout"
        }
      ]
    },
    {
      "cell_type": "markdown",
      "metadata": {
        "id": "dPt-r8ohE1JF"
      },
      "source": [
        "#### Bernoulli Naive Bayes"
      ]
    },
    {
      "cell_type": "code",
      "metadata": {
        "colab": {
          "base_uri": "https://localhost:8080/"
        },
        "id": "OdEoGjsgE1JF",
        "outputId": "ced951fc-1569-40ba-8799-014e9e57f61d"
      },
      "source": [
        "%%time\n",
        "Model = BernoulliNB()\n",
        "Model.fit(X_train.toarray(), y_train)\n",
        "y_pred = Model.predict(X_test.toarray())\n",
        "\n",
        "print(\"Acuracy\", accuracy_score(y_test, y_pred))\n",
        "print(\"Macro precision_recall_fscore_support\")\n",
        "print(precision_recall_fscore_support(y_test, y_pred, average='macro'))\n",
        "print(\"Micro precision_recall_fscore_support\")\n",
        "print(precision_recall_fscore_support(y_test, y_pred, average='micro'))\n",
        "print(\"Weighted precision_recall_fscore_support\")\n",
        "print(precision_recall_fscore_support(y_test, y_pred, average='weighted'))"
      ],
      "execution_count": null,
      "outputs": [
        {
          "output_type": "stream",
          "text": [
            "Acuracy 0.8948988566402815\n",
            "Macro precision_recall_fscore_support\n",
            "(0.8415110917021487, 0.7649901571626812, 0.7951047820043453, None)\n",
            "Micro precision_recall_fscore_support\n",
            "(0.8948988566402815, 0.8948988566402815, 0.8948988566402815, None)\n",
            "Weighted precision_recall_fscore_support\n",
            "(0.8882727156018607, 0.8948988566402815, 0.8882962241029322, None)\n",
            "CPU times: user 731 ms, sys: 121 ms, total: 852 ms\n",
            "Wall time: 639 ms\n"
          ],
          "name": "stdout"
        }
      ]
    },
    {
      "cell_type": "markdown",
      "metadata": {
        "id": "ihPuKeKuE1JF"
      },
      "source": [
        "#### Complement Naive Bayes"
      ]
    },
    {
      "cell_type": "code",
      "metadata": {
        "colab": {
          "base_uri": "https://localhost:8080/"
        },
        "id": "S2W4LYT-E1JG",
        "outputId": "833786bc-fab8-4b93-e453-578d8e42a7db"
      },
      "source": [
        "%%time\n",
        "Model = ComplementNB()\n",
        "Model.fit(X_train.toarray(), y_train)\n",
        "y_pred = Model.predict(X_test.toarray())\n",
        "\n",
        "print(\"Acuracy\", accuracy_score(y_test, y_pred))\n",
        "print(\"Macro precision_recall_fscore_support\")\n",
        "print(precision_recall_fscore_support(y_test, y_pred, average='macro'))\n",
        "print(\"Micro precision_recall_fscore_support\")\n",
        "print(precision_recall_fscore_support(y_test, y_pred, average='micro'))\n",
        "print(\"Weighted precision_recall_fscore_support\")\n",
        "print(precision_recall_fscore_support(y_test, y_pred, average='weighted'))"
      ],
      "execution_count": null,
      "outputs": [
        {
          "output_type": "stream",
          "text": [
            "Acuracy 0.8570800351802991\n",
            "Macro precision_recall_fscore_support\n",
            "(0.7536186200895507, 0.795898279923839, 0.7712363575244062, None)\n",
            "Micro precision_recall_fscore_support\n",
            "(0.8570800351802991, 0.8570800351802991, 0.8570800351802991, None)\n",
            "Weighted precision_recall_fscore_support\n",
            "(0.8712028357064902, 0.8570800351802991, 0.8625646635445304, None)\n",
            "CPU times: user 427 ms, sys: 113 ms, total: 540 ms\n",
            "Wall time: 369 ms\n"
          ],
          "name": "stdout"
        }
      ]
    },
    {
      "cell_type": "markdown",
      "metadata": {
        "id": "If_BOqZiE1JG"
      },
      "source": [
        "####  Multinomial Naive Bayes"
      ]
    },
    {
      "cell_type": "code",
      "metadata": {
        "colab": {
          "base_uri": "https://localhost:8080/"
        },
        "id": "H2salOXDE1JG",
        "outputId": "98f0bca3-9582-4987-b9a9-9e7f2f28d873"
      },
      "source": [
        "%%time\n",
        "Model = MultinomialNB()\n",
        "Model.fit(X_train.toarray(), y_train)\n",
        "y_pred = Model.predict(X_test.toarray())\n",
        "\n",
        "print(\"Acuracy\", accuracy_score(y_test, y_pred))\n",
        "print(\"Macro precision_recall_fscore_support\")\n",
        "print(precision_recall_fscore_support(y_test, y_pred, average='macro'))\n",
        "print(\"Micro precision_recall_fscore_support\")\n",
        "print(precision_recall_fscore_support(y_test, y_pred, average='micro'))\n",
        "print(\"Weighted precision_recall_fscore_support\")\n",
        "print(precision_recall_fscore_support(y_test, y_pred, average='weighted'))"
      ],
      "execution_count": null,
      "outputs": [
        {
          "output_type": "stream",
          "text": [
            "Acuracy 0.8812664907651715\n",
            "Macro precision_recall_fscore_support\n",
            "(0.878383190883191, 0.6800150062929615, 0.7267527557036657, None)\n",
            "Micro precision_recall_fscore_support\n",
            "(0.8812664907651715, 0.8812664907651715, 0.8812664907651715, None)\n",
            "Weighted precision_recall_fscore_support\n",
            "(0.880588067263529, 0.8812664907651715, 0.8606646594236373, None)\n",
            "CPU times: user 433 ms, sys: 69.5 ms, total: 502 ms\n",
            "Wall time: 352 ms\n"
          ],
          "name": "stdout"
        }
      ]
    },
    {
      "cell_type": "markdown",
      "metadata": {
        "id": "63wd4SlwE1JG"
      },
      "source": [
        "### Support Vector Machines (SVM)"
      ]
    },
    {
      "cell_type": "markdown",
      "metadata": {
        "id": "z5Dy8xogE1JG"
      },
      "source": [
        "#### RBF Kernel SVM"
      ]
    },
    {
      "cell_type": "code",
      "metadata": {
        "colab": {
          "base_uri": "https://localhost:8080/"
        },
        "id": "PQ1STkj6E1JH",
        "outputId": "54e005e2-df35-4a20-cda7-d2076aab5cf9"
      },
      "source": [
        "%%time\n",
        "Model = svm.SVC(kernel='rbf') #rbf by default svm.SVC()\n",
        "Model.fit(X_train, y_train)\n",
        "y_pred = Model.predict(X_test)\n",
        "\n",
        "print(\"Acuracy\", accuracy_score(y_test, y_pred))\n",
        "print(\"Macro precision_recall_fscore_support\")\n",
        "print(precision_recall_fscore_support(y_test, y_pred, average='macro'))\n",
        "print(\"Micro precision_recall_fscore_support\")\n",
        "print(precision_recall_fscore_support(y_test, y_pred, average='micro'))\n",
        "print(\"Weighted precision_recall_fscore_support\")\n",
        "print(precision_recall_fscore_support(y_test, y_pred, average='weighted'))"
      ],
      "execution_count": null,
      "outputs": [
        {
          "output_type": "stream",
          "text": [
            "Acuracy 0.8913808267370272\n",
            "Macro precision_recall_fscore_support\n",
            "(0.8787831991418029, 0.7160301094007164, 0.763219564386187, None)\n",
            "Micro precision_recall_fscore_support\n",
            "(0.8913808267370272, 0.8913808267370272, 0.8913808267370272, None)\n",
            "Weighted precision_recall_fscore_support\n",
            "(0.8887991240860746, 0.8913808267370272, 0.8767491464566864, None)\n",
            "CPU times: user 10.1 s, sys: 67.7 ms, total: 10.2 s\n",
            "Wall time: 10.2 s\n"
          ],
          "name": "stdout"
        }
      ]
    },
    {
      "cell_type": "markdown",
      "metadata": {
        "id": "wtir5muzE1JH"
      },
      "source": [
        "#### Linear Kernel SVM"
      ]
    },
    {
      "cell_type": "code",
      "metadata": {
        "colab": {
          "base_uri": "https://localhost:8080/"
        },
        "id": "rVZYSYcZE1JH",
        "outputId": "b46389ee-0333-42e1-f12c-400ba9e6a94d"
      },
      "source": [
        "%%time\n",
        "Model = svm.SVC(kernel='linear')\n",
        "Model.fit(X_train, y_train)\n",
        "y_pred = Model.predict(X_test)\n",
        "\n",
        "print(\"Acuracy\", accuracy_score(y_test, y_pred))\n",
        "print(\"Macro precision_recall_fscore_support\")\n",
        "print(precision_recall_fscore_support(y_test, y_pred, average='macro'))\n",
        "print(\"Micro precision_recall_fscore_support\")\n",
        "print(precision_recall_fscore_support(y_test, y_pred, average='micro'))\n",
        "print(\"Weighted precision_recall_fscore_support\")\n",
        "print(precision_recall_fscore_support(y_test, y_pred, average='weighted'))"
      ],
      "execution_count": null,
      "outputs": [
        {
          "output_type": "stream",
          "text": [
            "Acuracy 0.8927000879507476\n",
            "Macro precision_recall_fscore_support\n",
            "(0.8499157899593945, 0.7447276277148481, 0.78212540582312, None)\n",
            "Micro precision_recall_fscore_support\n",
            "(0.8927000879507476, 0.8927000879507476, 0.8927000879507476, None)\n",
            "Weighted precision_recall_fscore_support\n",
            "(0.8859830991876001, 0.8927000879507476, 0.8832807631769126, None)\n",
            "CPU times: user 5.76 s, sys: 18.1 ms, total: 5.77 s\n",
            "Wall time: 5.79 s\n"
          ],
          "name": "stdout"
        }
      ]
    },
    {
      "cell_type": "markdown",
      "metadata": {
        "id": "zYSvPUgYE1JH"
      },
      "source": [
        "### Random Forest"
      ]
    },
    {
      "cell_type": "code",
      "metadata": {
        "colab": {
          "base_uri": "https://localhost:8080/"
        },
        "id": "6WNSTWCQE1JH",
        "outputId": "bd549de6-2f99-4e37-b1d5-88a1dc203721"
      },
      "source": [
        "%%time\n",
        "Model = RandomForestClassifier(random_state=0)\n",
        "Model.fit(X_train, y_train)\n",
        "y_pred = Model.predict(X_test)\n",
        "\n",
        "print(\"Acuracy\", accuracy_score(y_test, y_pred))\n",
        "print(\"Macro precision_recall_fscore_support\")\n",
        "print(precision_recall_fscore_support(y_test, y_pred, average='macro'))\n",
        "print(\"Micro precision_recall_fscore_support\")\n",
        "print(precision_recall_fscore_support(y_test, y_pred, average='micro'))\n",
        "print(\"Weighted precision_recall_fscore_support\")\n",
        "print(precision_recall_fscore_support(y_test, y_pred, average='weighted'))"
      ],
      "execution_count": null,
      "outputs": [
        {
          "output_type": "stream",
          "text": [
            "Acuracy 0.886103781882146\n",
            "Macro precision_recall_fscore_support\n",
            "(0.8497576053359361, 0.7168207635460031, 0.758488551327426, None)\n",
            "Micro precision_recall_fscore_support\n",
            "(0.886103781882146, 0.886103781882146, 0.8861037818821461, None)\n",
            "Weighted precision_recall_fscore_support\n",
            "(0.8792888737797316, 0.886103781882146, 0.8729022063075199, None)\n",
            "CPU times: user 5.87 s, sys: 4.75 ms, total: 5.87 s\n",
            "Wall time: 5.89 s\n"
          ],
          "name": "stdout"
        }
      ]
    },
    {
      "cell_type": "markdown",
      "metadata": {
        "id": "6Snmn8j4E1JI"
      },
      "source": [
        "## Deep Learning"
      ]
    },
    {
      "cell_type": "code",
      "metadata": {
        "id": "D15HtzgXE1JI"
      },
      "source": [
        "\n",
        "output_dim = 1\n",
        "input_dim = X_train.shape[1]\n",
        "\n",
        "batch_size = 200\n",
        "nb_epoch = 100"
      ],
      "execution_count": null,
      "outputs": []
    },
    {
      "cell_type": "markdown",
      "metadata": {
        "id": "w1O5lbin9Td0"
      },
      "source": [
        "### Single Layer Perceptron"
      ]
    },
    {
      "cell_type": "code",
      "metadata": {
        "colab": {
          "base_uri": "https://localhost:8080/"
        },
        "id": "MZUV22XSthhn",
        "collapsed": true,
        "outputId": "1b906428-51ee-4f5b-b7c9-9cd1a6dfb656"
      },
      "source": [
        "%%time\n",
        "model = Sequential()\n",
        "\n",
        "model.add(Dense(output_dim, input_dim=input_dim, activation='softmax'))\n",
        "model.compile(optimizer='sgd', loss='binary_crossentropy', metrics=['accuracy'])\n",
        "model.fit(X_train, y_train, batch_size=batch_size, epochs=nb_epoch, verbose=1, validation_data=(X_test, y_test))\n",
        "model.summary()\n",
        "y_pred = model.predict(X_test)\n",
        "\n",
        "print(\"Acuracy\", accuracy_score(y_test, y_pred))\n",
        "print(\"Macro precision_recall_fscore_support\")\n",
        "print(precision_recall_fscore_support(y_test, y_pred, average='macro'))\n",
        "print(\"Micro precision_recall_fscore_support\")\n",
        "print(precision_recall_fscore_support(y_test, y_pred, average='micro'))\n",
        "print(\"Weighted precision_recall_fscore_support\")\n",
        "print(precision_recall_fscore_support(y_test, y_pred, average='weighted'))"
      ],
      "execution_count": null,
      "outputs": [
        {
          "output_type": "stream",
          "text": [
            "WARNING:tensorflow:From /tensorflow-1.15.2/python3.6/tensorflow_core/python/ops/resource_variable_ops.py:1630: calling BaseResourceVariable.__init__ (from tensorflow.python.ops.resource_variable_ops) with constraint is deprecated and will be removed in a future version.\n",
            "Instructions for updating:\n",
            "If using Keras pass *_constraint arguments to layers.\n",
            "WARNING:tensorflow:From /tensorflow-1.15.2/python3.6/tensorflow_core/python/ops/math_grad.py:1424: where (from tensorflow.python.ops.array_ops) is deprecated and will be removed in a future version.\n",
            "Instructions for updating:\n",
            "Use tf.where in 2.0, which has the same broadcast rule as np.where\n",
            "Train on 9096 samples, validate on 2274 samples\n",
            "Epoch 1/100\n",
            "9096/9096 [==============================] - 1s 89us/sample - loss: 12.4372 - acc: 0.1889 - val_loss: 12.5937 - val_acc: 0.1741\n",
            "Epoch 2/100\n",
            "9096/9096 [==============================] - 0s 53us/sample - loss: 12.4372 - acc: 0.1889 - val_loss: 12.5937 - val_acc: 0.1741\n",
            "Epoch 3/100\n",
            "9096/9096 [==============================] - 0s 52us/sample - loss: 12.4372 - acc: 0.1889 - val_loss: 12.5937 - val_acc: 0.1741\n",
            "Epoch 4/100\n",
            "9096/9096 [==============================] - 0s 49us/sample - loss: 12.4372 - acc: 0.1889 - val_loss: 12.5937 - val_acc: 0.1741\n",
            "Epoch 5/100\n",
            "9096/9096 [==============================] - 0s 48us/sample - loss: 12.4372 - acc: 0.1889 - val_loss: 12.5937 - val_acc: 0.1741\n",
            "Epoch 6/100\n",
            "9096/9096 [==============================] - 0s 49us/sample - loss: 12.4372 - acc: 0.1889 - val_loss: 12.5937 - val_acc: 0.1741\n",
            "Epoch 7/100\n",
            "9096/9096 [==============================] - 0s 48us/sample - loss: 12.4372 - acc: 0.1889 - val_loss: 12.5937 - val_acc: 0.1741\n",
            "Epoch 8/100\n",
            "9096/9096 [==============================] - 0s 46us/sample - loss: 12.4372 - acc: 0.1889 - val_loss: 12.5937 - val_acc: 0.1741\n",
            "Epoch 9/100\n",
            "9096/9096 [==============================] - 0s 45us/sample - loss: 12.4372 - acc: 0.1889 - val_loss: 12.5937 - val_acc: 0.1741\n",
            "Epoch 10/100\n",
            "9096/9096 [==============================] - 0s 46us/sample - loss: 12.4372 - acc: 0.1889 - val_loss: 12.5937 - val_acc: 0.1741\n",
            "Epoch 11/100\n",
            "9096/9096 [==============================] - 0s 46us/sample - loss: 12.4372 - acc: 0.1889 - val_loss: 12.5937 - val_acc: 0.1741\n",
            "Epoch 12/100\n",
            "9096/9096 [==============================] - 0s 47us/sample - loss: 12.4372 - acc: 0.1889 - val_loss: 12.5937 - val_acc: 0.1741\n",
            "Epoch 13/100\n",
            "9096/9096 [==============================] - 0s 47us/sample - loss: 12.4372 - acc: 0.1889 - val_loss: 12.5937 - val_acc: 0.1741\n",
            "Epoch 14/100\n",
            "9096/9096 [==============================] - 0s 45us/sample - loss: 12.4372 - acc: 0.1889 - val_loss: 12.5937 - val_acc: 0.1741\n",
            "Epoch 15/100\n",
            "9096/9096 [==============================] - 0s 45us/sample - loss: 12.4372 - acc: 0.1889 - val_loss: 12.5937 - val_acc: 0.1741\n",
            "Epoch 16/100\n",
            "9096/9096 [==============================] - 0s 46us/sample - loss: 12.4372 - acc: 0.1889 - val_loss: 12.5937 - val_acc: 0.1741\n",
            "Epoch 17/100\n",
            "9096/9096 [==============================] - 0s 45us/sample - loss: 12.4372 - acc: 0.1889 - val_loss: 12.5937 - val_acc: 0.1741\n",
            "Epoch 18/100\n",
            "9096/9096 [==============================] - 0s 47us/sample - loss: 12.4372 - acc: 0.1889 - val_loss: 12.5937 - val_acc: 0.1741\n",
            "Epoch 19/100\n",
            "9096/9096 [==============================] - 0s 48us/sample - loss: 12.4372 - acc: 0.1889 - val_loss: 12.5937 - val_acc: 0.1741\n",
            "Epoch 20/100\n",
            "9096/9096 [==============================] - 0s 48us/sample - loss: 12.4372 - acc: 0.1889 - val_loss: 12.5937 - val_acc: 0.1741\n",
            "Epoch 21/100\n",
            "9096/9096 [==============================] - 0s 46us/sample - loss: 12.4372 - acc: 0.1889 - val_loss: 12.5937 - val_acc: 0.1741\n",
            "Epoch 22/100\n",
            "9096/9096 [==============================] - 0s 47us/sample - loss: 12.4372 - acc: 0.1889 - val_loss: 12.5937 - val_acc: 0.1741\n",
            "Epoch 23/100\n",
            "9096/9096 [==============================] - 0s 46us/sample - loss: 12.4372 - acc: 0.1889 - val_loss: 12.5937 - val_acc: 0.1741\n",
            "Epoch 24/100\n",
            "9096/9096 [==============================] - 0s 46us/sample - loss: 12.4372 - acc: 0.1889 - val_loss: 12.5937 - val_acc: 0.1741\n",
            "Epoch 25/100\n",
            "9096/9096 [==============================] - 0s 45us/sample - loss: 12.4372 - acc: 0.1889 - val_loss: 12.5937 - val_acc: 0.1741\n",
            "Epoch 26/100\n",
            "9096/9096 [==============================] - 0s 48us/sample - loss: 12.4372 - acc: 0.1889 - val_loss: 12.5937 - val_acc: 0.1741\n",
            "Epoch 27/100\n",
            "9096/9096 [==============================] - 0s 48us/sample - loss: 12.4372 - acc: 0.1889 - val_loss: 12.5937 - val_acc: 0.1741\n",
            "Epoch 28/100\n",
            "9096/9096 [==============================] - 0s 48us/sample - loss: 12.4372 - acc: 0.1889 - val_loss: 12.5937 - val_acc: 0.1741\n",
            "Epoch 29/100\n",
            "9096/9096 [==============================] - 0s 47us/sample - loss: 12.4372 - acc: 0.1889 - val_loss: 12.5937 - val_acc: 0.1741\n",
            "Epoch 30/100\n",
            "9096/9096 [==============================] - 0s 47us/sample - loss: 12.4372 - acc: 0.1889 - val_loss: 12.5937 - val_acc: 0.1741\n",
            "Epoch 31/100\n",
            "9096/9096 [==============================] - 0s 46us/sample - loss: 12.4372 - acc: 0.1889 - val_loss: 12.5937 - val_acc: 0.1741\n",
            "Epoch 32/100\n",
            "9096/9096 [==============================] - 0s 48us/sample - loss: 12.4372 - acc: 0.1889 - val_loss: 12.5937 - val_acc: 0.1741\n",
            "Epoch 33/100\n",
            "9096/9096 [==============================] - 0s 46us/sample - loss: 12.4372 - acc: 0.1889 - val_loss: 12.5937 - val_acc: 0.1741\n",
            "Epoch 34/100\n",
            "9096/9096 [==============================] - 0s 47us/sample - loss: 12.4372 - acc: 0.1889 - val_loss: 12.5937 - val_acc: 0.1741\n",
            "Epoch 35/100\n",
            "9096/9096 [==============================] - 0s 47us/sample - loss: 12.4372 - acc: 0.1889 - val_loss: 12.5937 - val_acc: 0.1741\n",
            "Epoch 36/100\n",
            "9096/9096 [==============================] - 0s 50us/sample - loss: 12.4372 - acc: 0.1889 - val_loss: 12.5937 - val_acc: 0.1741\n",
            "Epoch 37/100\n",
            "9096/9096 [==============================] - 0s 47us/sample - loss: 12.4372 - acc: 0.1889 - val_loss: 12.5937 - val_acc: 0.1741\n",
            "Epoch 38/100\n",
            "9096/9096 [==============================] - 0s 46us/sample - loss: 12.4372 - acc: 0.1889 - val_loss: 12.5937 - val_acc: 0.1741\n",
            "Epoch 39/100\n",
            "9096/9096 [==============================] - 0s 47us/sample - loss: 12.4372 - acc: 0.1889 - val_loss: 12.5937 - val_acc: 0.1741\n",
            "Epoch 40/100\n",
            "9096/9096 [==============================] - 0s 45us/sample - loss: 12.4372 - acc: 0.1889 - val_loss: 12.5937 - val_acc: 0.1741\n",
            "Epoch 41/100\n",
            "9096/9096 [==============================] - 0s 49us/sample - loss: 12.4372 - acc: 0.1889 - val_loss: 12.5937 - val_acc: 0.1741\n",
            "Epoch 42/100\n",
            "9096/9096 [==============================] - 0s 47us/sample - loss: 12.4372 - acc: 0.1889 - val_loss: 12.5937 - val_acc: 0.1741\n",
            "Epoch 43/100\n",
            "9096/9096 [==============================] - 0s 47us/sample - loss: 12.4372 - acc: 0.1889 - val_loss: 12.5937 - val_acc: 0.1741\n",
            "Epoch 44/100\n",
            "9096/9096 [==============================] - 0s 46us/sample - loss: 12.4372 - acc: 0.1889 - val_loss: 12.5937 - val_acc: 0.1741\n",
            "Epoch 45/100\n",
            "9096/9096 [==============================] - 0s 47us/sample - loss: 12.4372 - acc: 0.1889 - val_loss: 12.5937 - val_acc: 0.1741\n",
            "Epoch 46/100\n",
            "9096/9096 [==============================] - 0s 47us/sample - loss: 12.4372 - acc: 0.1889 - val_loss: 12.5937 - val_acc: 0.1741\n",
            "Epoch 47/100\n",
            "9096/9096 [==============================] - 0s 46us/sample - loss: 12.4372 - acc: 0.1889 - val_loss: 12.5937 - val_acc: 0.1741\n",
            "Epoch 48/100\n",
            "9096/9096 [==============================] - 0s 47us/sample - loss: 12.4372 - acc: 0.1889 - val_loss: 12.5937 - val_acc: 0.1741\n",
            "Epoch 49/100\n",
            "9096/9096 [==============================] - 0s 47us/sample - loss: 12.4372 - acc: 0.1889 - val_loss: 12.5937 - val_acc: 0.1741\n",
            "Epoch 50/100\n",
            "9096/9096 [==============================] - 0s 47us/sample - loss: 12.4372 - acc: 0.1889 - val_loss: 12.5937 - val_acc: 0.1741\n",
            "Epoch 51/100\n",
            "9096/9096 [==============================] - 0s 47us/sample - loss: 12.4372 - acc: 0.1889 - val_loss: 12.5937 - val_acc: 0.1741\n",
            "Epoch 52/100\n",
            "9096/9096 [==============================] - 0s 45us/sample - loss: 12.4372 - acc: 0.1889 - val_loss: 12.5937 - val_acc: 0.1741\n",
            "Epoch 53/100\n",
            "9096/9096 [==============================] - 0s 46us/sample - loss: 12.4372 - acc: 0.1889 - val_loss: 12.5937 - val_acc: 0.1741\n",
            "Epoch 54/100\n",
            "9096/9096 [==============================] - 0s 47us/sample - loss: 12.4372 - acc: 0.1889 - val_loss: 12.5937 - val_acc: 0.1741\n",
            "Epoch 55/100\n",
            "9096/9096 [==============================] - 0s 46us/sample - loss: 12.4372 - acc: 0.1889 - val_loss: 12.5937 - val_acc: 0.1741\n",
            "Epoch 56/100\n",
            "9096/9096 [==============================] - 0s 45us/sample - loss: 12.4372 - acc: 0.1889 - val_loss: 12.5937 - val_acc: 0.1741\n",
            "Epoch 57/100\n",
            "9096/9096 [==============================] - 0s 50us/sample - loss: 12.4372 - acc: 0.1889 - val_loss: 12.5937 - val_acc: 0.1741\n",
            "Epoch 58/100\n",
            "9096/9096 [==============================] - 0s 46us/sample - loss: 12.4372 - acc: 0.1889 - val_loss: 12.5937 - val_acc: 0.1741\n",
            "Epoch 59/100\n",
            "9096/9096 [==============================] - 0s 48us/sample - loss: 12.4372 - acc: 0.1889 - val_loss: 12.5937 - val_acc: 0.1741\n",
            "Epoch 60/100\n",
            "9096/9096 [==============================] - 0s 44us/sample - loss: 12.4372 - acc: 0.1889 - val_loss: 12.5937 - val_acc: 0.1741\n",
            "Epoch 61/100\n",
            "9096/9096 [==============================] - 0s 48us/sample - loss: 12.4372 - acc: 0.1889 - val_loss: 12.5937 - val_acc: 0.1741\n",
            "Epoch 62/100\n",
            "9096/9096 [==============================] - 0s 47us/sample - loss: 12.4372 - acc: 0.1889 - val_loss: 12.5937 - val_acc: 0.1741\n",
            "Epoch 63/100\n",
            "9096/9096 [==============================] - 0s 46us/sample - loss: 12.4372 - acc: 0.1889 - val_loss: 12.5937 - val_acc: 0.1741\n",
            "Epoch 64/100\n",
            "9096/9096 [==============================] - 0s 48us/sample - loss: 12.4372 - acc: 0.1889 - val_loss: 12.5937 - val_acc: 0.1741\n",
            "Epoch 65/100\n",
            "9096/9096 [==============================] - 0s 46us/sample - loss: 12.4372 - acc: 0.1889 - val_loss: 12.5937 - val_acc: 0.1741\n",
            "Epoch 66/100\n",
            "9096/9096 [==============================] - 0s 47us/sample - loss: 12.4372 - acc: 0.1889 - val_loss: 12.5937 - val_acc: 0.1741\n",
            "Epoch 67/100\n",
            "9096/9096 [==============================] - 0s 46us/sample - loss: 12.4372 - acc: 0.1889 - val_loss: 12.5937 - val_acc: 0.1741\n",
            "Epoch 68/100\n",
            "9096/9096 [==============================] - 0s 46us/sample - loss: 12.4372 - acc: 0.1889 - val_loss: 12.5937 - val_acc: 0.1741\n",
            "Epoch 69/100\n",
            "9096/9096 [==============================] - 0s 47us/sample - loss: 12.4372 - acc: 0.1889 - val_loss: 12.5937 - val_acc: 0.1741\n",
            "Epoch 70/100\n",
            "9096/9096 [==============================] - 0s 48us/sample - loss: 12.4372 - acc: 0.1889 - val_loss: 12.5937 - val_acc: 0.1741\n",
            "Epoch 71/100\n",
            "9096/9096 [==============================] - 0s 48us/sample - loss: 12.4372 - acc: 0.1889 - val_loss: 12.5937 - val_acc: 0.1741\n",
            "Epoch 72/100\n",
            "9096/9096 [==============================] - 0s 44us/sample - loss: 12.4372 - acc: 0.1889 - val_loss: 12.5937 - val_acc: 0.1741\n",
            "Epoch 73/100\n",
            "9096/9096 [==============================] - 0s 45us/sample - loss: 12.4372 - acc: 0.1889 - val_loss: 12.5937 - val_acc: 0.1741\n",
            "Epoch 74/100\n",
            "9096/9096 [==============================] - 0s 46us/sample - loss: 12.4372 - acc: 0.1889 - val_loss: 12.5937 - val_acc: 0.1741\n",
            "Epoch 75/100\n",
            "9096/9096 [==============================] - 0s 47us/sample - loss: 12.4372 - acc: 0.1889 - val_loss: 12.5937 - val_acc: 0.1741\n",
            "Epoch 76/100\n",
            "9096/9096 [==============================] - 0s 48us/sample - loss: 12.4372 - acc: 0.1889 - val_loss: 12.5937 - val_acc: 0.1741\n",
            "Epoch 77/100\n",
            "9096/9096 [==============================] - 0s 47us/sample - loss: 12.4372 - acc: 0.1889 - val_loss: 12.5937 - val_acc: 0.1741\n",
            "Epoch 78/100\n",
            "9096/9096 [==============================] - 0s 47us/sample - loss: 12.4372 - acc: 0.1889 - val_loss: 12.5937 - val_acc: 0.1741\n",
            "Epoch 79/100\n",
            "9096/9096 [==============================] - 0s 49us/sample - loss: 12.4372 - acc: 0.1889 - val_loss: 12.5937 - val_acc: 0.1741\n",
            "Epoch 80/100\n",
            "9096/9096 [==============================] - 0s 48us/sample - loss: 12.4372 - acc: 0.1889 - val_loss: 12.5937 - val_acc: 0.1741\n",
            "Epoch 81/100\n",
            "9096/9096 [==============================] - 0s 46us/sample - loss: 12.4372 - acc: 0.1889 - val_loss: 12.5937 - val_acc: 0.1741\n",
            "Epoch 82/100\n",
            "9096/9096 [==============================] - 0s 46us/sample - loss: 12.4372 - acc: 0.1889 - val_loss: 12.5937 - val_acc: 0.1741\n",
            "Epoch 83/100\n",
            "9096/9096 [==============================] - 0s 46us/sample - loss: 12.4372 - acc: 0.1889 - val_loss: 12.5937 - val_acc: 0.1741\n",
            "Epoch 84/100\n",
            "9096/9096 [==============================] - 0s 46us/sample - loss: 12.4372 - acc: 0.1889 - val_loss: 12.5937 - val_acc: 0.1741\n",
            "Epoch 85/100\n",
            "9096/9096 [==============================] - 0s 47us/sample - loss: 12.4372 - acc: 0.1889 - val_loss: 12.5937 - val_acc: 0.1741\n",
            "Epoch 86/100\n",
            "9096/9096 [==============================] - 0s 48us/sample - loss: 12.4372 - acc: 0.1889 - val_loss: 12.5937 - val_acc: 0.1741\n",
            "Epoch 87/100\n",
            "9096/9096 [==============================] - 0s 46us/sample - loss: 12.4372 - acc: 0.1889 - val_loss: 12.5937 - val_acc: 0.1741\n",
            "Epoch 88/100\n",
            "9096/9096 [==============================] - 0s 46us/sample - loss: 12.4372 - acc: 0.1889 - val_loss: 12.5937 - val_acc: 0.1741\n",
            "Epoch 89/100\n",
            "9096/9096 [==============================] - 0s 47us/sample - loss: 12.4372 - acc: 0.1889 - val_loss: 12.5937 - val_acc: 0.1741\n",
            "Epoch 90/100\n",
            "9096/9096 [==============================] - 0s 47us/sample - loss: 12.4372 - acc: 0.1889 - val_loss: 12.5937 - val_acc: 0.1741\n",
            "Epoch 91/100\n",
            "9096/9096 [==============================] - 0s 47us/sample - loss: 12.4372 - acc: 0.1889 - val_loss: 12.5937 - val_acc: 0.1741\n",
            "Epoch 92/100\n",
            "9096/9096 [==============================] - 0s 47us/sample - loss: 12.4372 - acc: 0.1889 - val_loss: 12.5937 - val_acc: 0.1741\n",
            "Epoch 93/100\n",
            "9096/9096 [==============================] - 0s 46us/sample - loss: 12.4372 - acc: 0.1889 - val_loss: 12.5937 - val_acc: 0.1741\n",
            "Epoch 94/100\n",
            "9096/9096 [==============================] - 0s 47us/sample - loss: 12.4372 - acc: 0.1889 - val_loss: 12.5937 - val_acc: 0.1741\n",
            "Epoch 95/100\n",
            "9096/9096 [==============================] - 0s 47us/sample - loss: 12.4372 - acc: 0.1889 - val_loss: 12.5937 - val_acc: 0.1741\n",
            "Epoch 96/100\n",
            "9096/9096 [==============================] - 0s 46us/sample - loss: 12.4372 - acc: 0.1889 - val_loss: 12.5937 - val_acc: 0.1741\n",
            "Epoch 97/100\n",
            "9096/9096 [==============================] - 0s 49us/sample - loss: 12.4372 - acc: 0.1889 - val_loss: 12.5937 - val_acc: 0.1741\n",
            "Epoch 98/100\n",
            "9096/9096 [==============================] - 0s 47us/sample - loss: 12.4372 - acc: 0.1889 - val_loss: 12.5937 - val_acc: 0.1741\n",
            "Epoch 99/100\n",
            "9096/9096 [==============================] - 0s 47us/sample - loss: 12.4372 - acc: 0.1889 - val_loss: 12.5937 - val_acc: 0.1741\n",
            "Epoch 100/100\n",
            "9096/9096 [==============================] - 0s 49us/sample - loss: 12.4372 - acc: 0.1889 - val_loss: 12.5937 - val_acc: 0.1741\n",
            "Model: \"sequential\"\n",
            "_________________________________________________________________\n",
            "Layer (type)                 Output Shape              Param #   \n",
            "=================================================================\n",
            "dense (Dense)                (None, 1)                 4679      \n",
            "=================================================================\n",
            "Total params: 4,679\n",
            "Trainable params: 4,679\n",
            "Non-trainable params: 0\n",
            "_________________________________________________________________\n",
            "Acuracy 0.1741424802110818\n",
            "Macro precision_recall_fscore_support\n"
          ],
          "name": "stdout"
        },
        {
          "output_type": "stream",
          "text": [
            "/usr/local/lib/python3.6/dist-packages/sklearn/metrics/_classification.py:1272: UndefinedMetricWarning: Precision and F-score are ill-defined and being set to 0.0 in labels with no predicted samples. Use `zero_division` parameter to control this behavior.\n",
            "  _warn_prf(average, modifier, msg_start, len(result))\n"
          ],
          "name": "stderr"
        },
        {
          "output_type": "stream",
          "text": [
            "(0.0870712401055409, 0.5, 0.14831460674157304, None)\n",
            "Micro precision_recall_fscore_support\n",
            "(0.1741424802110818, 0.1741424802110818, 0.1741424802110818, None)\n",
            "Weighted precision_recall_fscore_support\n",
            "(0.030325603414067013, 0.1741424802110818, 0.05165574693901752, None)\n",
            "CPU times: user 45.3 s, sys: 2.22 s, total: 47.5 s\n",
            "Wall time: 45.2 s\n"
          ],
          "name": "stdout"
        }
      ]
    },
    {
      "cell_type": "markdown",
      "metadata": {
        "id": "aBz-_kv5sx1t"
      },
      "source": [
        "### Multilayer perceptron"
      ]
    },
    {
      "cell_type": "markdown",
      "metadata": {
        "id": "mAcRAa64aVEX"
      },
      "source": [
        "#### Architecture"
      ]
    },
    {
      "cell_type": "code",
      "metadata": {
        "id": "oh2Tr7nO2h0C"
      },
      "source": [
        "input_dim = X_train.shape[1]\n",
        "hidden_layer_1 = 1560\n",
        "hidden_layer_2 = 519\n",
        "hidden_layer_3 = 173\n",
        "output_dim = 1\n",
        "\n",
        "batch_size = 200\n",
        "nb_epoch = 100"
      ],
      "execution_count": null,
      "outputs": []
    },
    {
      "cell_type": "markdown",
      "metadata": {
        "id": "BMyN2Deqh6O7"
      },
      "source": [
        "#### Model 1 : SIGMOID + ADAM"
      ]
    },
    {
      "cell_type": "code",
      "metadata": {
        "colab": {
          "base_uri": "https://localhost:8080/"
        },
        "id": "rTiZF6b_E1JI",
        "outputId": "36ed7976-8a0c-4dc9-865f-bddda53f604d"
      },
      "source": [
        "%%time\n",
        "\n",
        "model_sigmoid = Sequential()\n",
        "model_sigmoid.add(Dense(hidden_layer_1, activation='sigmoid', input_shape=(input_dim,), kernel_initializer=RandomNormal(mean=0.0, stddev=0.0179, seed=None)))\n",
        "model_sigmoid.add(Dense(hidden_layer_2, activation='sigmoid',kernel_initializer=RandomNormal(mean=0.0, stddev=0.0310, seed=None)))\n",
        "model_sigmoid.add(Dense(hidden_layer_3, activation='sigmoid',kernel_initializer=RandomNormal(mean=0.0, stddev=0.0537, seed=None)))\n",
        "model_sigmoid.add(Dense(output_dim, activation='softmax', kernel_initializer=RandomNormal(mean=0.0, stddev=0.107, seed=None)))\n",
        "\n",
        "model_sigmoid.summary()\n",
        "\n",
        "model_sigmoid.compile(optimizer='adam', loss='binary_crossentropy', metrics=['accuracy'])\n",
        "model_sigmoid.fit(X_train, y_train, batch_size=batch_size, epochs=nb_epoch, verbose=1, validation_data=(X_test, y_test))\n",
        "\n",
        "y_pred = model_sigmoid.predict(X_test)\n",
        "\n",
        "print(\"Acuracy\", accuracy_score(y_test, y_pred))\n",
        "print(\"Macro precision_recall_fscore_support\")\n",
        "print(precision_recall_fscore_support(y_test, y_pred, average='macro'))\n",
        "print(\"Micro precision_recall_fscore_support\")\n",
        "print(precision_recall_fscore_support(y_test, y_pred, average='micro'))\n",
        "print(\"Weighted precision_recall_fscore_support\")\n",
        "print(precision_recall_fscore_support(y_test, y_pred, average='weighted'))"
      ],
      "execution_count": null,
      "outputs": [
        {
          "output_type": "stream",
          "text": [
            "WARNING:tensorflow:From /tensorflow-1.15.2/python3.6/tensorflow_core/python/keras/initializers.py:143: calling RandomNormal.__init__ (from tensorflow.python.ops.init_ops) with dtype is deprecated and will be removed in a future version.\n",
            "Instructions for updating:\n",
            "Call initializer instance with the dtype argument instead of passing it to the constructor\n",
            "Model: \"sequential_1\"\n",
            "_________________________________________________________________\n",
            "Layer (type)                 Output Shape              Param #   \n",
            "=================================================================\n",
            "dense_1 (Dense)              (None, 1560)              7299240   \n",
            "_________________________________________________________________\n",
            "dense_2 (Dense)              (None, 519)               810159    \n",
            "_________________________________________________________________\n",
            "dense_3 (Dense)              (None, 173)               89960     \n",
            "_________________________________________________________________\n",
            "dense_4 (Dense)              (None, 1)                 174       \n",
            "=================================================================\n",
            "Total params: 8,199,533\n",
            "Trainable params: 8,199,533\n",
            "Non-trainable params: 0\n",
            "_________________________________________________________________\n",
            "Train on 9096 samples, validate on 2274 samples\n",
            "Epoch 1/100\n",
            "9096/9096 [==============================] - 8s 897us/sample - loss: 12.4372 - acc: 0.1889 - val_loss: 12.5937 - val_acc: 0.1741\n",
            "Epoch 2/100\n",
            "9096/9096 [==============================] - 8s 886us/sample - loss: 12.4372 - acc: 0.1889 - val_loss: 12.5937 - val_acc: 0.1741\n",
            "Epoch 3/100\n",
            "9096/9096 [==============================] - 8s 883us/sample - loss: 12.4372 - acc: 0.1889 - val_loss: 12.5937 - val_acc: 0.1741\n",
            "Epoch 4/100\n",
            "9096/9096 [==============================] - 8s 886us/sample - loss: 12.4372 - acc: 0.1889 - val_loss: 12.5937 - val_acc: 0.1741\n",
            "Epoch 5/100\n",
            "9096/9096 [==============================] - 8s 888us/sample - loss: 12.4372 - acc: 0.1889 - val_loss: 12.5937 - val_acc: 0.1741\n",
            "Epoch 6/100\n",
            "9096/9096 [==============================] - 8s 887us/sample - loss: 12.4372 - acc: 0.1889 - val_loss: 12.5937 - val_acc: 0.1741\n",
            "Epoch 7/100\n",
            "9096/9096 [==============================] - 8s 887us/sample - loss: 12.4372 - acc: 0.1889 - val_loss: 12.5937 - val_acc: 0.1741\n",
            "Epoch 8/100\n",
            "9096/9096 [==============================] - 8s 883us/sample - loss: 12.4372 - acc: 0.1889 - val_loss: 12.5937 - val_acc: 0.1741\n",
            "Epoch 9/100\n",
            "9096/9096 [==============================] - 8s 886us/sample - loss: 12.4372 - acc: 0.1889 - val_loss: 12.5937 - val_acc: 0.1741\n",
            "Epoch 10/100\n",
            "9096/9096 [==============================] - 8s 886us/sample - loss: 12.4372 - acc: 0.1889 - val_loss: 12.5937 - val_acc: 0.1741\n",
            "Epoch 11/100\n",
            "9096/9096 [==============================] - 8s 888us/sample - loss: 12.4372 - acc: 0.1889 - val_loss: 12.5937 - val_acc: 0.1741\n",
            "Epoch 12/100\n",
            "9096/9096 [==============================] - 8s 889us/sample - loss: 12.4372 - acc: 0.1889 - val_loss: 12.5937 - val_acc: 0.1741\n",
            "Epoch 13/100\n",
            "9096/9096 [==============================] - 8s 888us/sample - loss: 12.4372 - acc: 0.1889 - val_loss: 12.5937 - val_acc: 0.1741\n",
            "Epoch 14/100\n",
            "9096/9096 [==============================] - 8s 887us/sample - loss: 12.4372 - acc: 0.1889 - val_loss: 12.5937 - val_acc: 0.1741\n",
            "Epoch 15/100\n",
            "9096/9096 [==============================] - 8s 892us/sample - loss: 12.4372 - acc: 0.1889 - val_loss: 12.5937 - val_acc: 0.1741\n",
            "Epoch 16/100\n",
            "9096/9096 [==============================] - 8s 885us/sample - loss: 12.4372 - acc: 0.1889 - val_loss: 12.5937 - val_acc: 0.1741\n",
            "Epoch 17/100\n",
            "9096/9096 [==============================] - 8s 883us/sample - loss: 12.4372 - acc: 0.1889 - val_loss: 12.5937 - val_acc: 0.1741\n",
            "Epoch 18/100\n",
            "9096/9096 [==============================] - 8s 882us/sample - loss: 12.4372 - acc: 0.1889 - val_loss: 12.5937 - val_acc: 0.1741\n",
            "Epoch 19/100\n",
            "9096/9096 [==============================] - 8s 885us/sample - loss: 12.4372 - acc: 0.1889 - val_loss: 12.5937 - val_acc: 0.1741\n",
            "Epoch 20/100\n",
            "9096/9096 [==============================] - 8s 888us/sample - loss: 12.4372 - acc: 0.1889 - val_loss: 12.5937 - val_acc: 0.1741\n",
            "Epoch 21/100\n",
            "9096/9096 [==============================] - 8s 888us/sample - loss: 12.4372 - acc: 0.1889 - val_loss: 12.5937 - val_acc: 0.1741\n",
            "Epoch 22/100\n",
            "9096/9096 [==============================] - 8s 885us/sample - loss: 12.4372 - acc: 0.1889 - val_loss: 12.5937 - val_acc: 0.1741\n",
            "Epoch 23/100\n",
            "9096/9096 [==============================] - 8s 883us/sample - loss: 12.4372 - acc: 0.1889 - val_loss: 12.5937 - val_acc: 0.1741\n",
            "Epoch 24/100\n",
            "9096/9096 [==============================] - 8s 885us/sample - loss: 12.4372 - acc: 0.1889 - val_loss: 12.5937 - val_acc: 0.1741\n",
            "Epoch 25/100\n",
            "9096/9096 [==============================] - 8s 901us/sample - loss: 12.4372 - acc: 0.1889 - val_loss: 12.5937 - val_acc: 0.1741\n",
            "Epoch 26/100\n",
            "9096/9096 [==============================] - 8s 901us/sample - loss: 12.4372 - acc: 0.1889 - val_loss: 12.5937 - val_acc: 0.1741\n",
            "Epoch 27/100\n",
            "9096/9096 [==============================] - 8s 898us/sample - loss: 12.4372 - acc: 0.1889 - val_loss: 12.5937 - val_acc: 0.1741\n",
            "Epoch 28/100\n",
            "9096/9096 [==============================] - 8s 883us/sample - loss: 12.4372 - acc: 0.1889 - val_loss: 12.5937 - val_acc: 0.1741\n",
            "Epoch 29/100\n",
            "9096/9096 [==============================] - 8s 884us/sample - loss: 12.4372 - acc: 0.1889 - val_loss: 12.5937 - val_acc: 0.1741\n",
            "Epoch 30/100\n",
            "9096/9096 [==============================] - 8s 885us/sample - loss: 12.4372 - acc: 0.1889 - val_loss: 12.5937 - val_acc: 0.1741\n",
            "Epoch 31/100\n",
            "9096/9096 [==============================] - 8s 881us/sample - loss: 12.4372 - acc: 0.1889 - val_loss: 12.5937 - val_acc: 0.1741\n",
            "Epoch 32/100\n",
            "9096/9096 [==============================] - 8s 882us/sample - loss: 12.4372 - acc: 0.1889 - val_loss: 12.5937 - val_acc: 0.1741\n",
            "Epoch 33/100\n",
            "9096/9096 [==============================] - 8s 899us/sample - loss: 12.4372 - acc: 0.1889 - val_loss: 12.5937 - val_acc: 0.1741\n",
            "Epoch 34/100\n",
            "9096/9096 [==============================] - 8s 888us/sample - loss: 12.4372 - acc: 0.1889 - val_loss: 12.5937 - val_acc: 0.1741\n",
            "Epoch 35/100\n",
            "9096/9096 [==============================] - 8s 882us/sample - loss: 12.4372 - acc: 0.1889 - val_loss: 12.5937 - val_acc: 0.1741\n",
            "Epoch 36/100\n",
            "9096/9096 [==============================] - 8s 875us/sample - loss: 12.4372 - acc: 0.1889 - val_loss: 12.5937 - val_acc: 0.1741\n",
            "Epoch 37/100\n",
            "9096/9096 [==============================] - 8s 875us/sample - loss: 12.4372 - acc: 0.1889 - val_loss: 12.5937 - val_acc: 0.1741\n",
            "Epoch 38/100\n",
            "9096/9096 [==============================] - 8s 874us/sample - loss: 12.4372 - acc: 0.1889 - val_loss: 12.5937 - val_acc: 0.1741\n",
            "Epoch 39/100\n",
            "9096/9096 [==============================] - 8s 880us/sample - loss: 12.4372 - acc: 0.1889 - val_loss: 12.5937 - val_acc: 0.1741\n",
            "Epoch 40/100\n",
            "9096/9096 [==============================] - 8s 880us/sample - loss: 12.4372 - acc: 0.1889 - val_loss: 12.5937 - val_acc: 0.1741\n",
            "Epoch 41/100\n",
            "9096/9096 [==============================] - 8s 880us/sample - loss: 12.4372 - acc: 0.1889 - val_loss: 12.5937 - val_acc: 0.1741\n",
            "Epoch 42/100\n",
            "9096/9096 [==============================] - 8s 875us/sample - loss: 12.4372 - acc: 0.1889 - val_loss: 12.5937 - val_acc: 0.1741\n",
            "Epoch 43/100\n",
            "9096/9096 [==============================] - 8s 881us/sample - loss: 12.4372 - acc: 0.1889 - val_loss: 12.5937 - val_acc: 0.1741\n",
            "Epoch 44/100\n",
            "9096/9096 [==============================] - 8s 880us/sample - loss: 12.4372 - acc: 0.1889 - val_loss: 12.5937 - val_acc: 0.1741\n",
            "Epoch 45/100\n",
            "9096/9096 [==============================] - 8s 879us/sample - loss: 12.4372 - acc: 0.1889 - val_loss: 12.5937 - val_acc: 0.1741\n",
            "Epoch 46/100\n",
            "9096/9096 [==============================] - 8s 877us/sample - loss: 12.4372 - acc: 0.1889 - val_loss: 12.5937 - val_acc: 0.1741\n",
            "Epoch 47/100\n",
            "9096/9096 [==============================] - 8s 876us/sample - loss: 12.4372 - acc: 0.1889 - val_loss: 12.5937 - val_acc: 0.1741\n",
            "Epoch 48/100\n",
            "9096/9096 [==============================] - 8s 878us/sample - loss: 12.4372 - acc: 0.1889 - val_loss: 12.5937 - val_acc: 0.1741\n",
            "Epoch 49/100\n",
            "9096/9096 [==============================] - 8s 877us/sample - loss: 12.4372 - acc: 0.1889 - val_loss: 12.5937 - val_acc: 0.1741\n",
            "Epoch 50/100\n",
            "9096/9096 [==============================] - 8s 878us/sample - loss: 12.4372 - acc: 0.1889 - val_loss: 12.5937 - val_acc: 0.1741\n",
            "Epoch 51/100\n",
            "9096/9096 [==============================] - 8s 876us/sample - loss: 12.4372 - acc: 0.1889 - val_loss: 12.5937 - val_acc: 0.1741\n",
            "Epoch 52/100\n",
            "9096/9096 [==============================] - 8s 883us/sample - loss: 12.4372 - acc: 0.1889 - val_loss: 12.5937 - val_acc: 0.1741\n",
            "Epoch 53/100\n",
            "9096/9096 [==============================] - 8s 881us/sample - loss: 12.4372 - acc: 0.1889 - val_loss: 12.5937 - val_acc: 0.1741\n",
            "Epoch 54/100\n",
            "9096/9096 [==============================] - 8s 883us/sample - loss: 12.4372 - acc: 0.1889 - val_loss: 12.5937 - val_acc: 0.1741\n",
            "Epoch 55/100\n",
            "9096/9096 [==============================] - 8s 880us/sample - loss: 12.4372 - acc: 0.1889 - val_loss: 12.5937 - val_acc: 0.1741\n",
            "Epoch 56/100\n",
            "9096/9096 [==============================] - 8s 883us/sample - loss: 12.4372 - acc: 0.1889 - val_loss: 12.5937 - val_acc: 0.1741\n",
            "Epoch 57/100\n",
            "9096/9096 [==============================] - 8s 877us/sample - loss: 12.4372 - acc: 0.1889 - val_loss: 12.5937 - val_acc: 0.1741\n",
            "Epoch 58/100\n",
            "9096/9096 [==============================] - 8s 882us/sample - loss: 12.4372 - acc: 0.1889 - val_loss: 12.5937 - val_acc: 0.1741\n",
            "Epoch 59/100\n",
            "9096/9096 [==============================] - 8s 877us/sample - loss: 12.4372 - acc: 0.1889 - val_loss: 12.5937 - val_acc: 0.1741\n",
            "Epoch 60/100\n",
            "9096/9096 [==============================] - 8s 884us/sample - loss: 12.4372 - acc: 0.1889 - val_loss: 12.5937 - val_acc: 0.1741\n",
            "Epoch 61/100\n",
            "9096/9096 [==============================] - 8s 882us/sample - loss: 12.4372 - acc: 0.1889 - val_loss: 12.5937 - val_acc: 0.1741\n",
            "Epoch 62/100\n",
            "9096/9096 [==============================] - 8s 888us/sample - loss: 12.4372 - acc: 0.1889 - val_loss: 12.5937 - val_acc: 0.1741\n",
            "Epoch 63/100\n",
            "9096/9096 [==============================] - 8s 882us/sample - loss: 12.4372 - acc: 0.1889 - val_loss: 12.5937 - val_acc: 0.1741\n",
            "Epoch 64/100\n",
            "9096/9096 [==============================] - 8s 887us/sample - loss: 12.4372 - acc: 0.1889 - val_loss: 12.5937 - val_acc: 0.1741\n",
            "Epoch 65/100\n",
            "9096/9096 [==============================] - 8s 897us/sample - loss: 12.4372 - acc: 0.1889 - val_loss: 12.5937 - val_acc: 0.1741\n",
            "Epoch 66/100\n",
            "9096/9096 [==============================] - 8s 897us/sample - loss: 12.4372 - acc: 0.1889 - val_loss: 12.5937 - val_acc: 0.1741\n",
            "Epoch 67/100\n",
            "9096/9096 [==============================] - 8s 892us/sample - loss: 12.4372 - acc: 0.1889 - val_loss: 12.5937 - val_acc: 0.1741\n",
            "Epoch 68/100\n",
            "9096/9096 [==============================] - 8s 881us/sample - loss: 12.4372 - acc: 0.1889 - val_loss: 12.5937 - val_acc: 0.1741\n",
            "Epoch 69/100\n",
            "9096/9096 [==============================] - 8s 882us/sample - loss: 12.4372 - acc: 0.1889 - val_loss: 12.5937 - val_acc: 0.1741\n",
            "Epoch 70/100\n",
            "9096/9096 [==============================] - 8s 884us/sample - loss: 12.4372 - acc: 0.1889 - val_loss: 12.5937 - val_acc: 0.1741\n",
            "Epoch 71/100\n",
            "9096/9096 [==============================] - 8s 903us/sample - loss: 12.4372 - acc: 0.1889 - val_loss: 12.5937 - val_acc: 0.1741\n",
            "Epoch 72/100\n",
            "9096/9096 [==============================] - 8s 887us/sample - loss: 12.4372 - acc: 0.1889 - val_loss: 12.5937 - val_acc: 0.1741\n",
            "Epoch 73/100\n",
            "9096/9096 [==============================] - 8s 887us/sample - loss: 12.4372 - acc: 0.1889 - val_loss: 12.5937 - val_acc: 0.1741\n",
            "Epoch 74/100\n",
            "9096/9096 [==============================] - 8s 884us/sample - loss: 12.4372 - acc: 0.1889 - val_loss: 12.5937 - val_acc: 0.1741\n",
            "Epoch 75/100\n",
            "9096/9096 [==============================] - 8s 883us/sample - loss: 12.4372 - acc: 0.1889 - val_loss: 12.5937 - val_acc: 0.1741\n",
            "Epoch 76/100\n",
            "9096/9096 [==============================] - 8s 883us/sample - loss: 12.4372 - acc: 0.1889 - val_loss: 12.5937 - val_acc: 0.1741\n",
            "Epoch 77/100\n",
            "9096/9096 [==============================] - 8s 882us/sample - loss: 12.4372 - acc: 0.1889 - val_loss: 12.5937 - val_acc: 0.1741\n",
            "Epoch 78/100\n",
            "9096/9096 [==============================] - 8s 885us/sample - loss: 12.4372 - acc: 0.1889 - val_loss: 12.5937 - val_acc: 0.1741\n",
            "Epoch 79/100\n",
            "9096/9096 [==============================] - 8s 884us/sample - loss: 12.4372 - acc: 0.1889 - val_loss: 12.5937 - val_acc: 0.1741\n",
            "Epoch 80/100\n",
            "9096/9096 [==============================] - 8s 880us/sample - loss: 12.4372 - acc: 0.1889 - val_loss: 12.5937 - val_acc: 0.1741\n",
            "Epoch 81/100\n",
            "9096/9096 [==============================] - 8s 886us/sample - loss: 12.4372 - acc: 0.1889 - val_loss: 12.5937 - val_acc: 0.1741\n",
            "Epoch 82/100\n",
            "9096/9096 [==============================] - 8s 883us/sample - loss: 12.4372 - acc: 0.1889 - val_loss: 12.5937 - val_acc: 0.1741\n",
            "Epoch 83/100\n",
            "9096/9096 [==============================] - 8s 882us/sample - loss: 12.4372 - acc: 0.1889 - val_loss: 12.5937 - val_acc: 0.1741\n",
            "Epoch 84/100\n",
            "9096/9096 [==============================] - 8s 883us/sample - loss: 12.4372 - acc: 0.1889 - val_loss: 12.5937 - val_acc: 0.1741\n",
            "Epoch 85/100\n",
            "9096/9096 [==============================] - 8s 880us/sample - loss: 12.4372 - acc: 0.1889 - val_loss: 12.5937 - val_acc: 0.1741\n",
            "Epoch 86/100\n",
            "9096/9096 [==============================] - 8s 887us/sample - loss: 12.4372 - acc: 0.1889 - val_loss: 12.5937 - val_acc: 0.1741\n",
            "Epoch 87/100\n",
            "9096/9096 [==============================] - 8s 883us/sample - loss: 12.4372 - acc: 0.1889 - val_loss: 12.5937 - val_acc: 0.1741\n",
            "Epoch 88/100\n",
            "9096/9096 [==============================] - 8s 885us/sample - loss: 12.4372 - acc: 0.1889 - val_loss: 12.5937 - val_acc: 0.1741\n",
            "Epoch 89/100\n",
            "9096/9096 [==============================] - 8s 883us/sample - loss: 12.4372 - acc: 0.1889 - val_loss: 12.5937 - val_acc: 0.1741\n",
            "Epoch 90/100\n",
            "9096/9096 [==============================] - 8s 884us/sample - loss: 12.4372 - acc: 0.1889 - val_loss: 12.5937 - val_acc: 0.1741\n",
            "Epoch 91/100\n",
            "9096/9096 [==============================] - 8s 884us/sample - loss: 12.4372 - acc: 0.1889 - val_loss: 12.5937 - val_acc: 0.1741\n",
            "Epoch 92/100\n",
            "9096/9096 [==============================] - 8s 885us/sample - loss: 12.4372 - acc: 0.1889 - val_loss: 12.5937 - val_acc: 0.1741\n",
            "Epoch 93/100\n",
            "9096/9096 [==============================] - 8s 881us/sample - loss: 12.4372 - acc: 0.1889 - val_loss: 12.5937 - val_acc: 0.1741\n",
            "Epoch 94/100\n",
            "9096/9096 [==============================] - 8s 885us/sample - loss: 12.4372 - acc: 0.1889 - val_loss: 12.5937 - val_acc: 0.1741\n",
            "Epoch 95/100\n",
            "9096/9096 [==============================] - 8s 884us/sample - loss: 12.4372 - acc: 0.1889 - val_loss: 12.5937 - val_acc: 0.1741\n",
            "Epoch 96/100\n",
            "9096/9096 [==============================] - 8s 886us/sample - loss: 12.4372 - acc: 0.1889 - val_loss: 12.5937 - val_acc: 0.1741\n",
            "Epoch 97/100\n",
            "9096/9096 [==============================] - 8s 883us/sample - loss: 12.4372 - acc: 0.1889 - val_loss: 12.5937 - val_acc: 0.1741\n",
            "Epoch 98/100\n",
            "9096/9096 [==============================] - 8s 886us/sample - loss: 12.4372 - acc: 0.1889 - val_loss: 12.5937 - val_acc: 0.1741\n",
            "Epoch 99/100\n",
            "9096/9096 [==============================] - 8s 885us/sample - loss: 12.4372 - acc: 0.1889 - val_loss: 12.5937 - val_acc: 0.1741\n",
            "Epoch 100/100\n",
            "9096/9096 [==============================] - 8s 882us/sample - loss: 12.4372 - acc: 0.1889 - val_loss: 12.5937 - val_acc: 0.1741\n",
            "Acuracy 0.1741424802110818\n",
            "Macro precision_recall_fscore_support\n"
          ],
          "name": "stdout"
        },
        {
          "output_type": "stream",
          "text": [
            "/usr/local/lib/python3.6/dist-packages/sklearn/metrics/_classification.py:1272: UndefinedMetricWarning: Precision and F-score are ill-defined and being set to 0.0 in labels with no predicted samples. Use `zero_division` parameter to control this behavior.\n",
            "  _warn_prf(average, modifier, msg_start, len(result))\n"
          ],
          "name": "stderr"
        },
        {
          "output_type": "stream",
          "text": [
            "(0.0870712401055409, 0.5, 0.14831460674157304, None)\n",
            "Micro precision_recall_fscore_support\n",
            "(0.1741424802110818, 0.1741424802110818, 0.1741424802110818, None)\n",
            "Weighted precision_recall_fscore_support\n",
            "(0.030325603414067013, 0.1741424802110818, 0.05165574693901752, None)\n",
            "CPU times: user 24min 7s, sys: 12.5 s, total: 24min 20s\n",
            "Wall time: 13min 27s\n"
          ],
          "name": "stdout"
        }
      ]
    },
    {
      "cell_type": "markdown",
      "metadata": {
        "id": "5iut12__8oaY"
      },
      "source": [
        "## Conclusion<br>\n",
        "\n",
        "1. Deep Learning Models are easy to overfit and underfit.<br>\n",
        "2. Relu and Adam with Dropout proved to best as expected.<br>\n",
        "3. SVM is still the best as far as accuracy and training time is concerned.\n",
        "\n"
      ]
    }
  ]
}